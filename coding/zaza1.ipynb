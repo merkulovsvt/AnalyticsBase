{
 "cells": [
  {
   "cell_type": "code",
   "outputs": [],
   "source": [
    "import seaborn as sns\n",
    "\n",
    "flights = sns.load_dataset(\"flights\")\n",
    "flights"
   ],
   "metadata": {
    "collapsed": false
   },
   "id": "acc627f5743192b7",
   "execution_count": null
  },
  {
   "cell_type": "code",
   "outputs": [],
   "source": [
    "flights_by_month = flights.groupby('month').agg({\"passengers\": \"sum\"})\n",
    "flights_by_year = flights.groupby('year').agg({\"passengers\": \"sum\"})"
   ],
   "metadata": {
    "collapsed": false
   },
   "id": "f167180fb749ebef",
   "execution_count": null
  },
  {
   "cell_type": "code",
   "outputs": [],
   "source": [
    "sns.displot(data=flights, x=\"month\", y=\"passengers\", hue=\"year\")\n",
    "# sns.histplot(data=flights_by_year, x=\"year\", y=\"passengers\")"
   ],
   "metadata": {
    "collapsed": false
   },
   "id": "b731faca2bc00ee9",
   "execution_count": null
  },
  {
   "cell_type": "code",
   "outputs": [],
   "source": [
    "sns.lineplot(data=flights_by_year, x=\"year\", y=\"passengers\")"
   ],
   "metadata": {
    "collapsed": false
   },
   "id": "96986cd9d059840a",
   "execution_count": null
  }
 ],
 "metadata": {
  "kernelspec": {
   "display_name": "Python 3",
   "language": "python",
   "name": "python3"
  },
  "language_info": {
   "codemirror_mode": {
    "name": "ipython",
    "version": 2
   },
   "file_extension": ".py",
   "mimetype": "text/x-python",
   "name": "python",
   "nbconvert_exporter": "python",
   "pygments_lexer": "ipython2",
   "version": "2.7.6"
  }
 },
 "nbformat": 4,
 "nbformat_minor": 5
}
