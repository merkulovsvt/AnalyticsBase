{
 "cells": [
  {
   "cell_type": "code",
   "execution_count": 12,
   "id": "initial_id",
   "metadata": {
    "collapsed": true,
    "ExecuteTime": {
     "end_time": "2024-03-10T09:10:32.658976400Z",
     "start_time": "2024-03-10T09:10:32.469378900Z"
    }
   },
   "outputs": [],
   "source": [
    "import pandas as pd\n",
    "\n",
    "bookings = pd.read_csv(\"../Datasets/bookings.csv\", sep=\";\")\n",
    "bookings_head = bookings.head(7)\n",
    "# bookings.select_dtypes(include={'int64'})"
   ]
  },
  {
   "cell_type": "code",
   "outputs": [
    {
     "data": {
      "text/plain": "               hotel  is_canceled  lead_time arrival_full_date  \\\n0       Resort Hotel            0        342        2015-07-01   \n1       Resort Hotel            0        737        2015-07-01   \n2       Resort Hotel            0          7        2015-07-01   \n3       Resort Hotel            0         13        2015-07-01   \n4       Resort Hotel            0         14        2015-07-01   \n...              ...          ...        ...               ...   \n119385    City Hotel            0         23        2017-08-30   \n119386    City Hotel            0        102        2017-08-31   \n119387    City Hotel            0         34        2017-08-31   \n119388    City Hotel            0        109        2017-08-31   \n119389    City Hotel            0        205        2017-08-29   \n\n        arrival_date_year arrival_date_month  arrival_date_week_number  \\\n0                    2015               July                        27   \n1                    2015               July                        27   \n2                    2015               July                        27   \n3                    2015               July                        27   \n4                    2015               July                        27   \n...                   ...                ...                       ...   \n119385               2017             August                        35   \n119386               2017             August                        35   \n119387               2017             August                        35   \n119388               2017             August                        35   \n119389               2017             August                        35   \n\n        arrival_date_day_of_month  stays_in_weekend_nights  \\\n0                               1                        0   \n1                               1                        0   \n2                               1                        0   \n3                               1                        0   \n4                               1                        0   \n...                           ...                      ...   \n119385                         30                        2   \n119386                         31                        2   \n119387                         31                        2   \n119388                         31                        2   \n119389                         29                        2   \n\n        stays_in_week_nights  ...  adults  children  babies  meal country  \\\n0                          0  ...       2       0.0       0    BB     PRT   \n1                          0  ...       2       0.0       0    BB     PRT   \n2                          1  ...       1       0.0       0    BB     GBR   \n3                          1  ...       1       0.0       0    BB     GBR   \n4                          2  ...       2       0.0       0    BB     GBR   \n...                      ...  ...     ...       ...     ...   ...     ...   \n119385                     5  ...       2       0.0       0    BB     BEL   \n119386                     5  ...       3       0.0       0    BB     FRA   \n119387                     5  ...       2       0.0       0    BB     DEU   \n119388                     5  ...       2       0.0       0    BB     GBR   \n119389                     7  ...       2       0.0       0    HB     DEU   \n\n       reserved_room_type assigned_room_type customer_type reservation_status  \\\n0                       C                  C     Transient          Check-Out   \n1                       C                  C     Transient          Check-Out   \n2                       A                  C     Transient          Check-Out   \n3                       A                  A     Transient          Check-Out   \n4                       A                  A     Transient          Check-Out   \n...                   ...                ...           ...                ...   \n119385                  A                  A     Transient          Check-Out   \n119386                  E                  E     Transient          Check-Out   \n119387                  D                  D     Transient          Check-Out   \n119388                  A                  A     Transient          Check-Out   \n119389                  A                  A     Transient          Check-Out   \n\n       reservation_status_date  \n0                   2015-07-01  \n1                   2015-07-01  \n2                   2015-07-02  \n3                   2015-07-02  \n4                   2015-07-03  \n...                        ...  \n119385              2017-09-06  \n119386              2017-09-07  \n119387              2017-09-07  \n119388              2017-09-07  \n119389              2017-09-07  \n\n[119390 rows x 21 columns]",
      "text/html": "<div>\n<style scoped>\n    .dataframe tbody tr th:only-of-type {\n        vertical-align: middle;\n    }\n\n    .dataframe tbody tr th {\n        vertical-align: top;\n    }\n\n    .dataframe thead th {\n        text-align: right;\n    }\n</style>\n<table border=\"1\" class=\"dataframe\">\n  <thead>\n    <tr style=\"text-align: right;\">\n      <th></th>\n      <th>hotel</th>\n      <th>is_canceled</th>\n      <th>lead_time</th>\n      <th>arrival_full_date</th>\n      <th>arrival_date_year</th>\n      <th>arrival_date_month</th>\n      <th>arrival_date_week_number</th>\n      <th>arrival_date_day_of_month</th>\n      <th>stays_in_weekend_nights</th>\n      <th>stays_in_week_nights</th>\n      <th>...</th>\n      <th>adults</th>\n      <th>children</th>\n      <th>babies</th>\n      <th>meal</th>\n      <th>country</th>\n      <th>reserved_room_type</th>\n      <th>assigned_room_type</th>\n      <th>customer_type</th>\n      <th>reservation_status</th>\n      <th>reservation_status_date</th>\n    </tr>\n  </thead>\n  <tbody>\n    <tr>\n      <th>0</th>\n      <td>Resort Hotel</td>\n      <td>0</td>\n      <td>342</td>\n      <td>2015-07-01</td>\n      <td>2015</td>\n      <td>July</td>\n      <td>27</td>\n      <td>1</td>\n      <td>0</td>\n      <td>0</td>\n      <td>...</td>\n      <td>2</td>\n      <td>0.0</td>\n      <td>0</td>\n      <td>BB</td>\n      <td>PRT</td>\n      <td>C</td>\n      <td>C</td>\n      <td>Transient</td>\n      <td>Check-Out</td>\n      <td>2015-07-01</td>\n    </tr>\n    <tr>\n      <th>1</th>\n      <td>Resort Hotel</td>\n      <td>0</td>\n      <td>737</td>\n      <td>2015-07-01</td>\n      <td>2015</td>\n      <td>July</td>\n      <td>27</td>\n      <td>1</td>\n      <td>0</td>\n      <td>0</td>\n      <td>...</td>\n      <td>2</td>\n      <td>0.0</td>\n      <td>0</td>\n      <td>BB</td>\n      <td>PRT</td>\n      <td>C</td>\n      <td>C</td>\n      <td>Transient</td>\n      <td>Check-Out</td>\n      <td>2015-07-01</td>\n    </tr>\n    <tr>\n      <th>2</th>\n      <td>Resort Hotel</td>\n      <td>0</td>\n      <td>7</td>\n      <td>2015-07-01</td>\n      <td>2015</td>\n      <td>July</td>\n      <td>27</td>\n      <td>1</td>\n      <td>0</td>\n      <td>1</td>\n      <td>...</td>\n      <td>1</td>\n      <td>0.0</td>\n      <td>0</td>\n      <td>BB</td>\n      <td>GBR</td>\n      <td>A</td>\n      <td>C</td>\n      <td>Transient</td>\n      <td>Check-Out</td>\n      <td>2015-07-02</td>\n    </tr>\n    <tr>\n      <th>3</th>\n      <td>Resort Hotel</td>\n      <td>0</td>\n      <td>13</td>\n      <td>2015-07-01</td>\n      <td>2015</td>\n      <td>July</td>\n      <td>27</td>\n      <td>1</td>\n      <td>0</td>\n      <td>1</td>\n      <td>...</td>\n      <td>1</td>\n      <td>0.0</td>\n      <td>0</td>\n      <td>BB</td>\n      <td>GBR</td>\n      <td>A</td>\n      <td>A</td>\n      <td>Transient</td>\n      <td>Check-Out</td>\n      <td>2015-07-02</td>\n    </tr>\n    <tr>\n      <th>4</th>\n      <td>Resort Hotel</td>\n      <td>0</td>\n      <td>14</td>\n      <td>2015-07-01</td>\n      <td>2015</td>\n      <td>July</td>\n      <td>27</td>\n      <td>1</td>\n      <td>0</td>\n      <td>2</td>\n      <td>...</td>\n      <td>2</td>\n      <td>0.0</td>\n      <td>0</td>\n      <td>BB</td>\n      <td>GBR</td>\n      <td>A</td>\n      <td>A</td>\n      <td>Transient</td>\n      <td>Check-Out</td>\n      <td>2015-07-03</td>\n    </tr>\n    <tr>\n      <th>...</th>\n      <td>...</td>\n      <td>...</td>\n      <td>...</td>\n      <td>...</td>\n      <td>...</td>\n      <td>...</td>\n      <td>...</td>\n      <td>...</td>\n      <td>...</td>\n      <td>...</td>\n      <td>...</td>\n      <td>...</td>\n      <td>...</td>\n      <td>...</td>\n      <td>...</td>\n      <td>...</td>\n      <td>...</td>\n      <td>...</td>\n      <td>...</td>\n      <td>...</td>\n      <td>...</td>\n    </tr>\n    <tr>\n      <th>119385</th>\n      <td>City Hotel</td>\n      <td>0</td>\n      <td>23</td>\n      <td>2017-08-30</td>\n      <td>2017</td>\n      <td>August</td>\n      <td>35</td>\n      <td>30</td>\n      <td>2</td>\n      <td>5</td>\n      <td>...</td>\n      <td>2</td>\n      <td>0.0</td>\n      <td>0</td>\n      <td>BB</td>\n      <td>BEL</td>\n      <td>A</td>\n      <td>A</td>\n      <td>Transient</td>\n      <td>Check-Out</td>\n      <td>2017-09-06</td>\n    </tr>\n    <tr>\n      <th>119386</th>\n      <td>City Hotel</td>\n      <td>0</td>\n      <td>102</td>\n      <td>2017-08-31</td>\n      <td>2017</td>\n      <td>August</td>\n      <td>35</td>\n      <td>31</td>\n      <td>2</td>\n      <td>5</td>\n      <td>...</td>\n      <td>3</td>\n      <td>0.0</td>\n      <td>0</td>\n      <td>BB</td>\n      <td>FRA</td>\n      <td>E</td>\n      <td>E</td>\n      <td>Transient</td>\n      <td>Check-Out</td>\n      <td>2017-09-07</td>\n    </tr>\n    <tr>\n      <th>119387</th>\n      <td>City Hotel</td>\n      <td>0</td>\n      <td>34</td>\n      <td>2017-08-31</td>\n      <td>2017</td>\n      <td>August</td>\n      <td>35</td>\n      <td>31</td>\n      <td>2</td>\n      <td>5</td>\n      <td>...</td>\n      <td>2</td>\n      <td>0.0</td>\n      <td>0</td>\n      <td>BB</td>\n      <td>DEU</td>\n      <td>D</td>\n      <td>D</td>\n      <td>Transient</td>\n      <td>Check-Out</td>\n      <td>2017-09-07</td>\n    </tr>\n    <tr>\n      <th>119388</th>\n      <td>City Hotel</td>\n      <td>0</td>\n      <td>109</td>\n      <td>2017-08-31</td>\n      <td>2017</td>\n      <td>August</td>\n      <td>35</td>\n      <td>31</td>\n      <td>2</td>\n      <td>5</td>\n      <td>...</td>\n      <td>2</td>\n      <td>0.0</td>\n      <td>0</td>\n      <td>BB</td>\n      <td>GBR</td>\n      <td>A</td>\n      <td>A</td>\n      <td>Transient</td>\n      <td>Check-Out</td>\n      <td>2017-09-07</td>\n    </tr>\n    <tr>\n      <th>119389</th>\n      <td>City Hotel</td>\n      <td>0</td>\n      <td>205</td>\n      <td>2017-08-29</td>\n      <td>2017</td>\n      <td>August</td>\n      <td>35</td>\n      <td>29</td>\n      <td>2</td>\n      <td>7</td>\n      <td>...</td>\n      <td>2</td>\n      <td>0.0</td>\n      <td>0</td>\n      <td>HB</td>\n      <td>DEU</td>\n      <td>A</td>\n      <td>A</td>\n      <td>Transient</td>\n      <td>Check-Out</td>\n      <td>2017-09-07</td>\n    </tr>\n  </tbody>\n</table>\n<p>119390 rows × 21 columns</p>\n</div>"
     },
     "execution_count": 13,
     "metadata": {},
     "output_type": "execute_result"
    }
   ],
   "source": [
    "# def default_names(name):\n",
    "#     return name.replace(' ', '_').lower()\n",
    "# \n",
    "# bookings.rename(columns=default_names, inplace=True)\n",
    "\n",
    "bookings.rename(columns=lambda name: name.replace(' ', '_').lower(), inplace=True)\n",
    "bookings"
   ],
   "metadata": {
    "collapsed": false,
    "ExecuteTime": {
     "end_time": "2024-03-10T09:10:35.225571600Z",
     "start_time": "2024-03-10T09:10:35.150586200Z"
    }
   },
   "id": "68ced4e84b150bd7",
   "execution_count": 13
  },
  {
   "cell_type": "code",
   "outputs": [
    {
     "data": {
      "text/plain": "         is_canceled\ncountry             \nPRT            21071\nGBR             9676\nFRA             8481\nESP             6391\nDEU             6069",
      "text/html": "<div>\n<style scoped>\n    .dataframe tbody tr th:only-of-type {\n        vertical-align: middle;\n    }\n\n    .dataframe tbody tr th {\n        vertical-align: top;\n    }\n\n    .dataframe thead th {\n        text-align: right;\n    }\n</style>\n<table border=\"1\" class=\"dataframe\">\n  <thead>\n    <tr style=\"text-align: right;\">\n      <th></th>\n      <th>is_canceled</th>\n    </tr>\n    <tr>\n      <th>country</th>\n      <th></th>\n    </tr>\n  </thead>\n  <tbody>\n    <tr>\n      <th>PRT</th>\n      <td>21071</td>\n    </tr>\n    <tr>\n      <th>GBR</th>\n      <td>9676</td>\n    </tr>\n    <tr>\n      <th>FRA</th>\n      <td>8481</td>\n    </tr>\n    <tr>\n      <th>ESP</th>\n      <td>6391</td>\n    </tr>\n    <tr>\n      <th>DEU</th>\n      <td>6069</td>\n    </tr>\n  </tbody>\n</table>\n</div>"
     },
     "execution_count": 15,
     "metadata": {},
     "output_type": "execute_result"
    }
   ],
   "source": [
    "bookings.query('is_canceled == 0').groupby('country').aggregate({'is_canceled': 'count'}).sort_values(\n",
    "    by='is_canceled', ascending=False).head(5)"
   ],
   "metadata": {
    "collapsed": false,
    "ExecuteTime": {
     "end_time": "2024-03-10T09:10:43.575970400Z",
     "start_time": "2024-03-10T09:10:43.542315200Z"
    }
   },
   "id": "382ed1acf1162320",
   "execution_count": 15
  },
  {
   "cell_type": "code",
   "outputs": [
    {
     "data": {
      "text/plain": "              stays_total_nights\nhotel                           \nCity Hotel              2.978142\nResort Hotel            4.318547",
      "text/html": "<div>\n<style scoped>\n    .dataframe tbody tr th:only-of-type {\n        vertical-align: middle;\n    }\n\n    .dataframe tbody tr th {\n        vertical-align: top;\n    }\n\n    .dataframe thead th {\n        text-align: right;\n    }\n</style>\n<table border=\"1\" class=\"dataframe\">\n  <thead>\n    <tr style=\"text-align: right;\">\n      <th></th>\n      <th>stays_total_nights</th>\n    </tr>\n    <tr>\n      <th>hotel</th>\n      <th></th>\n    </tr>\n  </thead>\n  <tbody>\n    <tr>\n      <th>City Hotel</th>\n      <td>2.978142</td>\n    </tr>\n    <tr>\n      <th>Resort Hotel</th>\n      <td>4.318547</td>\n    </tr>\n  </tbody>\n</table>\n</div>"
     },
     "execution_count": 6,
     "metadata": {},
     "output_type": "execute_result"
    }
   ],
   "source": [
    "bookings.groupby('hotel').aggregate({'stays_total_nights': 'mean'})"
   ],
   "metadata": {
    "collapsed": false,
    "ExecuteTime": {
     "end_time": "2024-03-08T10:46:02.858326Z",
     "start_time": "2024-03-08T10:46:02.801558800Z"
    }
   },
   "id": "a330ca278863860b",
   "execution_count": 6
  },
  {
   "cell_type": "code",
   "outputs": [
    {
     "data": {
      "text/plain": "(14917, 21)"
     },
     "execution_count": 7,
     "metadata": {},
     "output_type": "execute_result"
    }
   ],
   "source": [
    "bookings.query('assigned_room_type != reserved_room_type').shape"
   ],
   "metadata": {
    "collapsed": false,
    "ExecuteTime": {
     "end_time": "2024-03-08T10:46:02.879486500Z",
     "start_time": "2024-03-08T10:46:02.830818300Z"
    }
   },
   "id": "3f866ad16a2cce0b",
   "execution_count": 7
  },
  {
   "cell_type": "code",
   "outputs": [
    {
     "data": {
      "text/plain": "hotel                        October\nis_canceled                  October\nlead_time                    October\narrival_full_date            October\narrival_date_year            October\narrival_date_week_number     October\narrival_date_day_of_month    October\nstays_in_weekend_nights      October\nstays_in_week_nights         October\nstays_total_nights           October\nadults                       October\nchildren                     October\nbabies                       October\nmeal                         October\ncountry                      October\nreserved_room_type           October\nassigned_room_type           October\ncustomer_type                October\nreservation_status           October\nreservation_status_date      October\ndtype: object"
     },
     "execution_count": 8,
     "metadata": {},
     "output_type": "execute_result"
    }
   ],
   "source": [
    "bookings[bookings['arrival_date_year'] == 2016].groupby('arrival_date_month').count().idxmax()\n",
    "# bookings[bookings['arrival_date_year'] == 2017].groupby('arrival_date_month').count().idxmax()"
   ],
   "metadata": {
    "collapsed": false,
    "ExecuteTime": {
     "end_time": "2024-03-08T10:46:02.945963400Z",
     "start_time": "2024-03-08T10:46:02.862326800Z"
    }
   },
   "id": "354e517d1614876d",
   "execution_count": 8
  },
  {
   "cell_type": "code",
   "outputs": [
    {
     "data": {
      "text/plain": "arrival_date_year  arrival_date_month\n2015               August                1598\n                   December               973\n                   July                  1259\n                   November               486\n                   October               1732\n                   September             2094\n2016               April                 2061\n                   August                1825\n                   December              1398\n                   February              1337\n                   January                557\n                   July                  1499\n                   June                  2096\n                   March                 1477\n                   May                   1915\n                   November              1636\n                   October               2514\n                   September             2022\n2017               April                 2463\n                   August                1816\n                   February              1359\n                   January               1250\n                   July                  1984\n                   June                  2439\n                   March                 1672\n                   May                   2762\nName: is_canceled, dtype: int64"
     },
     "execution_count": 9,
     "metadata": {},
     "output_type": "execute_result"
    }
   ],
   "source": [
    "bookings.groupby(['arrival_date_year', 'arrival_date_month'])['is_canceled'].sum()\n",
    "\n",
    "# bookings.groupby(['arrival_date_year', 'arrival_date_month'])['is_canceled'].sum().groupby('arrival_date_year').nlargest(1)"
   ],
   "metadata": {
    "collapsed": false,
    "ExecuteTime": {
     "end_time": "2024-03-08T10:46:02.971726800Z",
     "start_time": "2024-03-08T10:46:02.908256800Z"
    }
   },
   "id": "2a1e855ed9dd6b1d",
   "execution_count": 9
  },
  {
   "cell_type": "code",
   "outputs": [
    {
     "data": {
      "text/plain": "adults      1.856403\nchildren    0.103890\nbabies      0.007949\ndtype: float64"
     },
     "execution_count": 10,
     "metadata": {},
     "output_type": "execute_result"
    }
   ],
   "source": [
    "bookings[['adults', 'children', 'babies']].mean()"
   ],
   "metadata": {
    "collapsed": false,
    "ExecuteTime": {
     "end_time": "2024-03-08T10:46:02.994426700Z",
     "start_time": "2024-03-08T10:46:02.939520900Z"
    }
   },
   "id": "402e3eb544b61238",
   "execution_count": 10
  },
  {
   "cell_type": "code",
   "outputs": [
    {
     "data": {
      "text/plain": "0.14"
     },
     "execution_count": 11,
     "metadata": {},
     "output_type": "execute_result"
    }
   ],
   "source": [
    "bookings['total_kids'] = bookings['children'] + bookings['babies']\n",
    "bookings.groupby('hotel').total_kids.mean().max().round(decimals=2)"
   ],
   "metadata": {
    "collapsed": false,
    "ExecuteTime": {
     "end_time": "2024-03-08T10:46:03.039092Z",
     "start_time": "2024-03-08T10:46:02.955457900Z"
    }
   },
   "id": "f7314b9a98d57961",
   "execution_count": 11
  },
  {
   "cell_type": "code",
   "outputs": [
    {
     "data": {
      "text/plain": "         is_canceled            rate\n                 sum   count        \nhas_kids                            \nFalse          40965  110058  0.3722\nTrue            3259    9332  0.3492",
      "text/html": "<div>\n<style scoped>\n    .dataframe tbody tr th:only-of-type {\n        vertical-align: middle;\n    }\n\n    .dataframe tbody tr th {\n        vertical-align: top;\n    }\n\n    .dataframe thead tr th {\n        text-align: left;\n    }\n\n    .dataframe thead tr:last-of-type th {\n        text-align: right;\n    }\n</style>\n<table border=\"1\" class=\"dataframe\">\n  <thead>\n    <tr>\n      <th></th>\n      <th colspan=\"2\" halign=\"left\">is_canceled</th>\n      <th>rate</th>\n    </tr>\n    <tr>\n      <th></th>\n      <th>sum</th>\n      <th>count</th>\n      <th></th>\n    </tr>\n    <tr>\n      <th>has_kids</th>\n      <th></th>\n      <th></th>\n      <th></th>\n    </tr>\n  </thead>\n  <tbody>\n    <tr>\n      <th>False</th>\n      <td>40965</td>\n      <td>110058</td>\n      <td>0.3722</td>\n    </tr>\n    <tr>\n      <th>True</th>\n      <td>3259</td>\n      <td>9332</td>\n      <td>0.3492</td>\n    </tr>\n  </tbody>\n</table>\n</div>"
     },
     "execution_count": 16,
     "metadata": {},
     "output_type": "execute_result"
    }
   ],
   "source": [
    "import numpy as np\n",
    "\n",
    "bookings['has_kids'] = np.where(bookings['total_kids'] > 0, True, False)\n",
    "\n",
    "churn_rate = bookings.groupby('has_kids').aggregate({'is_canceled': ['sum', 'count']})\n",
    "churn_rate['rate'] = (churn_rate[('is_canceled', 'sum')]/churn_rate[('is_canceled', 'count')]).round(4)\n",
    "\n",
    "churn_rate"
   ],
   "metadata": {
    "collapsed": false,
    "ExecuteTime": {
     "end_time": "2024-03-08T10:49:22.194400Z",
     "start_time": "2024-03-08T10:49:22.161630100Z"
    }
   },
   "id": "35cc3855cad57908",
   "execution_count": 16
  },
  {
   "cell_type": "code",
   "outputs": [
    {
     "ename": "AttributeError",
     "evalue": "'DataFrame' object has no attribute 'bottom'",
     "output_type": "error",
     "traceback": [
      "\u001B[1;31m---------------------------------------------------------------------------\u001B[0m",
      "\u001B[1;31mAttributeError\u001B[0m                            Traceback (most recent call last)",
      "\u001B[1;32m~\\AppData\\Local\\Temp\\ipykernel_4612\\1323683499.py\u001B[0m in \u001B[0;36m?\u001B[1;34m()\u001B[0m\n\u001B[1;32m----> 1\u001B[1;33m \u001B[0mbookings\u001B[0m\u001B[1;33m.\u001B[0m\u001B[0mbottom\u001B[0m\u001B[1;33m(\u001B[0m\u001B[1;33m)\u001B[0m\u001B[1;33m\u001B[0m\u001B[1;33m\u001B[0m\u001B[0m\n\u001B[0m",
      "\u001B[1;32m~\\.virtualenvs\\AnalyticsBase-COJXrYEW\\lib\\site-packages\\pandas\\core\\generic.py\u001B[0m in \u001B[0;36m?\u001B[1;34m(self, name)\u001B[0m\n\u001B[0;32m   6292\u001B[0m             \u001B[1;32mand\u001B[0m \u001B[0mname\u001B[0m \u001B[1;32mnot\u001B[0m \u001B[1;32min\u001B[0m \u001B[0mself\u001B[0m\u001B[1;33m.\u001B[0m\u001B[0m_accessors\u001B[0m\u001B[1;33m\u001B[0m\u001B[1;33m\u001B[0m\u001B[0m\n\u001B[0;32m   6293\u001B[0m             \u001B[1;32mand\u001B[0m \u001B[0mself\u001B[0m\u001B[1;33m.\u001B[0m\u001B[0m_info_axis\u001B[0m\u001B[1;33m.\u001B[0m\u001B[0m_can_hold_identifiers_and_holds_name\u001B[0m\u001B[1;33m(\u001B[0m\u001B[0mname\u001B[0m\u001B[1;33m)\u001B[0m\u001B[1;33m\u001B[0m\u001B[1;33m\u001B[0m\u001B[0m\n\u001B[0;32m   6294\u001B[0m         ):\n\u001B[0;32m   6295\u001B[0m             \u001B[1;32mreturn\u001B[0m \u001B[0mself\u001B[0m\u001B[1;33m[\u001B[0m\u001B[0mname\u001B[0m\u001B[1;33m]\u001B[0m\u001B[1;33m\u001B[0m\u001B[1;33m\u001B[0m\u001B[0m\n\u001B[1;32m-> 6296\u001B[1;33m         \u001B[1;32mreturn\u001B[0m \u001B[0mobject\u001B[0m\u001B[1;33m.\u001B[0m\u001B[0m__getattribute__\u001B[0m\u001B[1;33m(\u001B[0m\u001B[0mself\u001B[0m\u001B[1;33m,\u001B[0m \u001B[0mname\u001B[0m\u001B[1;33m)\u001B[0m\u001B[1;33m\u001B[0m\u001B[1;33m\u001B[0m\u001B[0m\n\u001B[0m",
      "\u001B[1;31mAttributeError\u001B[0m: 'DataFrame' object has no attribute 'bottom'"
     ]
    }
   ],
   "source": [
    "bookings.bottom()"
   ],
   "metadata": {
    "collapsed": false,
    "ExecuteTime": {
     "end_time": "2024-03-08T11:15:25.671442600Z",
     "start_time": "2024-03-08T11:15:25.637180600Z"
    }
   },
   "id": "6b7576d6ddef98dd",
   "execution_count": 23
  },
  {
   "cell_type": "code",
   "outputs": [],
   "source": [],
   "metadata": {
    "collapsed": false,
    "ExecuteTime": {
     "end_time": "2024-03-08T11:14:48.077587Z",
     "start_time": "2024-03-08T11:14:48.057157300Z"
    }
   },
   "id": "eb1443dcfc8c8eb5",
   "execution_count": 18
  }
 ],
 "metadata": {
  "kernelspec": {
   "display_name": "Python 3",
   "language": "python",
   "name": "python3"
  },
  "language_info": {
   "codemirror_mode": {
    "name": "ipython",
    "version": 2
   },
   "file_extension": ".py",
   "mimetype": "text/x-python",
   "name": "python",
   "nbconvert_exporter": "python",
   "pygments_lexer": "ipython2",
   "version": "2.7.6"
  }
 },
 "nbformat": 4,
 "nbformat_minor": 5
}
