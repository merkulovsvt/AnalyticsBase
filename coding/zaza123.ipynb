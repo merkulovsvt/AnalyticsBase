{
 "cells": [
  {
   "cell_type": "code",
   "execution_count": 105,
   "id": "initial_id",
   "metadata": {
    "collapsed": true,
    "ExecuteTime": {
     "end_time": "2024-03-10T09:32:23.208163100Z",
     "start_time": "2024-03-10T09:32:22.937884400Z"
    }
   },
   "outputs": [
    {
     "data": {
      "text/plain": "     gender race/ethnicity parental_level_of_education         lunch  \\\n0    female        group B           bachelor's degree      standard   \n1    female        group C                some college      standard   \n2    female        group B             master's degree      standard   \n3      male        group A          associate's degree  free/reduced   \n4      male        group C                some college      standard   \n..      ...            ...                         ...           ...   \n995  female        group E             master's degree      standard   \n996    male        group C                 high school  free/reduced   \n997  female        group C                 high school  free/reduced   \n998  female        group D                some college      standard   \n999  female        group D                some college  free/reduced   \n\n    test_preparation_course  math_score  reading_score  writing_score  \n0                      none          72             72             74  \n1                 completed          69             90             88  \n2                      none          90             95             93  \n3                      none          47             57             44  \n4                      none          76             78             75  \n..                      ...         ...            ...            ...  \n995               completed          88             99             95  \n996                    none          62             55             55  \n997               completed          59             71             65  \n998               completed          68             78             77  \n999                    none          77             86             86  \n\n[1000 rows x 8 columns]",
      "text/html": "<div>\n<style scoped>\n    .dataframe tbody tr th:only-of-type {\n        vertical-align: middle;\n    }\n\n    .dataframe tbody tr th {\n        vertical-align: top;\n    }\n\n    .dataframe thead th {\n        text-align: right;\n    }\n</style>\n<table border=\"1\" class=\"dataframe\">\n  <thead>\n    <tr style=\"text-align: right;\">\n      <th></th>\n      <th>gender</th>\n      <th>race/ethnicity</th>\n      <th>parental_level_of_education</th>\n      <th>lunch</th>\n      <th>test_preparation_course</th>\n      <th>math_score</th>\n      <th>reading_score</th>\n      <th>writing_score</th>\n    </tr>\n  </thead>\n  <tbody>\n    <tr>\n      <th>0</th>\n      <td>female</td>\n      <td>group B</td>\n      <td>bachelor's degree</td>\n      <td>standard</td>\n      <td>none</td>\n      <td>72</td>\n      <td>72</td>\n      <td>74</td>\n    </tr>\n    <tr>\n      <th>1</th>\n      <td>female</td>\n      <td>group C</td>\n      <td>some college</td>\n      <td>standard</td>\n      <td>completed</td>\n      <td>69</td>\n      <td>90</td>\n      <td>88</td>\n    </tr>\n    <tr>\n      <th>2</th>\n      <td>female</td>\n      <td>group B</td>\n      <td>master's degree</td>\n      <td>standard</td>\n      <td>none</td>\n      <td>90</td>\n      <td>95</td>\n      <td>93</td>\n    </tr>\n    <tr>\n      <th>3</th>\n      <td>male</td>\n      <td>group A</td>\n      <td>associate's degree</td>\n      <td>free/reduced</td>\n      <td>none</td>\n      <td>47</td>\n      <td>57</td>\n      <td>44</td>\n    </tr>\n    <tr>\n      <th>4</th>\n      <td>male</td>\n      <td>group C</td>\n      <td>some college</td>\n      <td>standard</td>\n      <td>none</td>\n      <td>76</td>\n      <td>78</td>\n      <td>75</td>\n    </tr>\n    <tr>\n      <th>...</th>\n      <td>...</td>\n      <td>...</td>\n      <td>...</td>\n      <td>...</td>\n      <td>...</td>\n      <td>...</td>\n      <td>...</td>\n      <td>...</td>\n    </tr>\n    <tr>\n      <th>995</th>\n      <td>female</td>\n      <td>group E</td>\n      <td>master's degree</td>\n      <td>standard</td>\n      <td>completed</td>\n      <td>88</td>\n      <td>99</td>\n      <td>95</td>\n    </tr>\n    <tr>\n      <th>996</th>\n      <td>male</td>\n      <td>group C</td>\n      <td>high school</td>\n      <td>free/reduced</td>\n      <td>none</td>\n      <td>62</td>\n      <td>55</td>\n      <td>55</td>\n    </tr>\n    <tr>\n      <th>997</th>\n      <td>female</td>\n      <td>group C</td>\n      <td>high school</td>\n      <td>free/reduced</td>\n      <td>completed</td>\n      <td>59</td>\n      <td>71</td>\n      <td>65</td>\n    </tr>\n    <tr>\n      <th>998</th>\n      <td>female</td>\n      <td>group D</td>\n      <td>some college</td>\n      <td>standard</td>\n      <td>completed</td>\n      <td>68</td>\n      <td>78</td>\n      <td>77</td>\n    </tr>\n    <tr>\n      <th>999</th>\n      <td>female</td>\n      <td>group D</td>\n      <td>some college</td>\n      <td>free/reduced</td>\n      <td>none</td>\n      <td>77</td>\n      <td>86</td>\n      <td>86</td>\n    </tr>\n  </tbody>\n</table>\n<p>1000 rows × 8 columns</p>\n</div>"
     },
     "execution_count": 105,
     "metadata": {},
     "output_type": "execute_result"
    }
   ],
   "source": [
    "import pandas as pd\n",
    "\n",
    "zaza = pd.read_csv('https://stepik.org/media/attachments/course/4852/StudentsPerformance.csv')\n",
    "zaza.rename(columns=lambda x: x.replace(' ', '_').lower(), inplace=True)\n",
    "zaza"
   ]
  },
  {
   "cell_type": "code",
   "outputs": [
    {
     "ename": "ValueError",
     "evalue": "0 is not in list",
     "output_type": "error",
     "traceback": [
      "\u001B[1;31m---------------------------------------------------------------------------\u001B[0m",
      "\u001B[1;31mValueError\u001B[0m                                Traceback (most recent call last)",
      "Cell \u001B[1;32mIn[155], line 7\u001B[0m\n\u001B[0;32m      1\u001B[0m \u001B[38;5;66;03m# data = zaza.groupby('lunch').aggregate(\u001B[39;00m\n\u001B[0;32m      2\u001B[0m \u001B[38;5;66;03m#     {\"reading_score mean\": pd.Series.mean, 'writing_score': pd.Series.mean, 'math_score': pd.Series.mean, \"reading_score\": pd.Series.var, 'writing_score': pd.Series.var, 'math_score': pd.Series.var})\u001B[39;00m\n\u001B[0;32m      4\u001B[0m data \u001B[38;5;241m=\u001B[39m zaza\u001B[38;5;241m.\u001B[39mgroupby(\u001B[38;5;124m'\u001B[39m\u001B[38;5;124mlunch\u001B[39m\u001B[38;5;124m'\u001B[39m)[[\u001B[38;5;124m\"\u001B[39m\u001B[38;5;124mreading_score\u001B[39m\u001B[38;5;124m\"\u001B[39m,\u001B[38;5;124m'\u001B[39m\u001B[38;5;124mwriting_score\u001B[39m\u001B[38;5;124m'\u001B[39m,\u001B[38;5;124m'\u001B[39m\u001B[38;5;124mmath_score\u001B[39m\u001B[38;5;124m'\u001B[39m]]\u001B[38;5;241m.\u001B[39maggregate([pd\u001B[38;5;241m.\u001B[39mSeries\u001B[38;5;241m.\u001B[39mmean, pd\u001B[38;5;241m.\u001B[39mSeries\u001B[38;5;241m.\u001B[39mvar])\n\u001B[1;32m----> 7\u001B[0m \u001B[38;5;28;43mlist\u001B[39;49m\u001B[43m(\u001B[49m\u001B[43mdata\u001B[49m\u001B[38;5;241;43m.\u001B[39;49m\u001B[43mfilter\u001B[49m\u001B[43m(\u001B[49m\u001B[43mlike\u001B[49m\u001B[38;5;241;43m=\u001B[39;49m\u001B[38;5;124;43m\"\u001B[39;49m\u001B[38;5;124;43ma\u001B[39;49m\u001B[38;5;124;43m\"\u001B[39;49m\u001B[43m)\u001B[49m\u001B[38;5;241;43m.\u001B[39;49m\u001B[43mindex\u001B[49m\u001B[43m)\u001B[49m\u001B[38;5;241;43m.\u001B[39;49m\u001B[43mindex\u001B[49m\u001B[43m(\u001B[49m\u001B[38;5;241;43m0\u001B[39;49m\u001B[43m)\u001B[49m\n\u001B[0;32m      8\u001B[0m \u001B[38;5;66;03m# cnt = zaza.groupby('lunch').aggregate({\"reading_score\": pd.Series.count}).rename(\u001B[39;00m\n\u001B[0;32m      9\u001B[0m \u001B[38;5;66;03m#     columns={\"reading_score\": \"cnt\"}).squeeze()\u001B[39;00m\n\u001B[0;32m     10\u001B[0m \u001B[38;5;66;03m# cnt\u001B[39;00m\n",
      "\u001B[1;31mValueError\u001B[0m: 0 is not in list"
     ]
    }
   ],
   "source": [
    "# data = zaza.groupby('lunch').aggregate(\n",
    "#     {\"reading_score mean\": pd.Series.mean, 'writing_score': pd.Series.mean, 'math_score': pd.Series.mean, \"reading_score\": pd.Series.var, 'writing_score': pd.Series.var, 'math_score': pd.Series.var})\n",
    "\n",
    "data = zaza.groupby('lunch')[[\"reading_score\",'writing_score','math_score']].aggregate([pd.Series.mean, pd.Series.var])\n",
    "\n",
    "\n",
    "list(data.filter(like=\"a\").index)\n",
    "# cnt = zaza.groupby('lunch').aggregate({\"reading_score\": pd.Series.count}).rename(\n",
    "#     columns={\"reading_score\": \"cnt\"}).squeeze()\n",
    "# cnt"
   ],
   "metadata": {
    "collapsed": false,
    "ExecuteTime": {
     "end_time": "2024-03-10T10:04:23.590071200Z",
     "start_time": "2024-03-10T10:04:23.558377500Z"
    }
   },
   "id": "7a7e290c8ce3146a",
   "execution_count": 155
  },
  {
   "cell_type": "code",
   "outputs": [
    {
     "data": {
      "text/plain": "lunch\nfree/reduced     66242\nstandard        137070\nName: full_score, dtype: int64"
     },
     "execution_count": 79,
     "metadata": {},
     "output_type": "execute_result"
    }
   ],
   "source": [
    "data['full_score'] = data['reading_score'] + data['writing_score'] + data['math_score']\n",
    "data.drop(columns=['reading_score', 'writing_score', 'math_score'], axis=1, inplace=True)\n",
    "# data['mean']=zaza[zaza['lunch'] == 'free/reduce'].mean()\n",
    "# data['var']=data['full_score'].var()\n",
    "data = data.squeeze()\n",
    "data"
   ],
   "metadata": {
    "collapsed": false,
    "ExecuteTime": {
     "end_time": "2024-03-10T09:26:50.303187200Z",
     "start_time": "2024-03-10T09:26:50.228384600Z"
    }
   },
   "id": "7cea05f1cfe33703",
   "execution_count": 79
  },
  {
   "cell_type": "code",
   "outputs": [
    {
     "data": {
      "text/plain": "     reading_score  writing_score  math_score\n0               72             74          72\n1               90             88          69\n2               95             93          90\n3               57             44          47\n4               78             75          76\n..             ...            ...         ...\n995             99             95          88\n996             55             55          62\n997             71             65          59\n998             78             77          68\n999             86             86          77\n\n[1000 rows x 3 columns]",
      "text/html": "<div>\n<style scoped>\n    .dataframe tbody tr th:only-of-type {\n        vertical-align: middle;\n    }\n\n    .dataframe tbody tr th {\n        vertical-align: top;\n    }\n\n    .dataframe thead th {\n        text-align: right;\n    }\n</style>\n<table border=\"1\" class=\"dataframe\">\n  <thead>\n    <tr style=\"text-align: right;\">\n      <th></th>\n      <th>reading_score</th>\n      <th>writing_score</th>\n      <th>math_score</th>\n    </tr>\n  </thead>\n  <tbody>\n    <tr>\n      <th>0</th>\n      <td>72</td>\n      <td>74</td>\n      <td>72</td>\n    </tr>\n    <tr>\n      <th>1</th>\n      <td>90</td>\n      <td>88</td>\n      <td>69</td>\n    </tr>\n    <tr>\n      <th>2</th>\n      <td>95</td>\n      <td>93</td>\n      <td>90</td>\n    </tr>\n    <tr>\n      <th>3</th>\n      <td>57</td>\n      <td>44</td>\n      <td>47</td>\n    </tr>\n    <tr>\n      <th>4</th>\n      <td>78</td>\n      <td>75</td>\n      <td>76</td>\n    </tr>\n    <tr>\n      <th>...</th>\n      <td>...</td>\n      <td>...</td>\n      <td>...</td>\n    </tr>\n    <tr>\n      <th>995</th>\n      <td>99</td>\n      <td>95</td>\n      <td>88</td>\n    </tr>\n    <tr>\n      <th>996</th>\n      <td>55</td>\n      <td>55</td>\n      <td>62</td>\n    </tr>\n    <tr>\n      <th>997</th>\n      <td>71</td>\n      <td>65</td>\n      <td>59</td>\n    </tr>\n    <tr>\n      <th>998</th>\n      <td>78</td>\n      <td>77</td>\n      <td>68</td>\n    </tr>\n    <tr>\n      <th>999</th>\n      <td>86</td>\n      <td>86</td>\n      <td>77</td>\n    </tr>\n  </tbody>\n</table>\n<p>1000 rows × 3 columns</p>\n</div>"
     },
     "execution_count": 110,
     "metadata": {},
     "output_type": "execute_result"
    }
   ],
   "source": [
    "zaza[['reading_score','writing_score','math_score']]"
   ],
   "metadata": {
    "collapsed": false,
    "ExecuteTime": {
     "end_time": "2024-03-10T09:33:37.671103300Z",
     "start_time": "2024-03-10T09:33:37.658865800Z"
    }
   },
   "id": "aba7173961a5e076",
   "execution_count": 110
  },
  {
   "cell_type": "code",
   "outputs": [],
   "source": [],
   "metadata": {
    "collapsed": false
   },
   "id": "df2d6e39a2e92f1a"
  },
  {
   "cell_type": "code",
   "outputs": [
    {
     "data": {
      "text/plain": "lunch\nfree/reduced    186.597183\nstandard        212.511628\ndtype: float64"
     },
     "execution_count": 81,
     "metadata": {},
     "output_type": "execute_result"
    }
   ],
   "source": [
    "data / cnt"
   ],
   "metadata": {
    "collapsed": false,
    "ExecuteTime": {
     "end_time": "2024-03-10T09:26:55.232986500Z",
     "start_time": "2024-03-10T09:26:55.212265200Z"
    }
   },
   "id": "989445bf83823528",
   "execution_count": 81
  },
  {
   "cell_type": "code",
   "outputs": [],
   "source": [
    "data1 = zaza.query(\"lunch == 'free/reduced'\")[['reading_score','writing_score','math_score']]\n",
    "data2 = zaza.query(\"lunch == 'standard'\")[['reading_score','writing_score','math_score']]"
   ],
   "metadata": {
    "collapsed": false,
    "ExecuteTime": {
     "end_time": "2024-03-10T09:36:15.966791100Z",
     "start_time": "2024-03-10T09:36:15.957602800Z"
    }
   },
   "id": "2255f69eddfe8799",
   "execution_count": 126
  },
  {
   "cell_type": "code",
   "outputs": [
    {
     "data": {
      "text/plain": "(reading_score    64.653521\n writing_score    63.022535\n math_score       58.921127\n dtype: float64,\n reading_score    221.871139\n writing_score    238.202881\n math_score       229.824270\n dtype: float64)"
     },
     "execution_count": 131,
     "metadata": {},
     "output_type": "execute_result"
    }
   ],
   "source": [
    "(data1.mean(), data1.var())"
   ],
   "metadata": {
    "collapsed": false,
    "ExecuteTime": {
     "end_time": "2024-03-10T09:36:55.368490200Z",
     "start_time": "2024-03-10T09:36:55.349113500Z"
    }
   },
   "id": "3aa07eb57622eec5",
   "execution_count": 131
  },
  {
   "cell_type": "code",
   "outputs": [
    {
     "data": {
      "text/plain": "(reading_score    71.654264\n writing_score    70.823256\n math_score       70.034109\n dtype: float64,\n reading_score    191.285560\n writing_score    205.620887\n math_score       186.418089\n dtype: float64)"
     },
     "execution_count": 130,
     "metadata": {},
     "output_type": "execute_result"
    }
   ],
   "source": [
    "(data2.mean(), data2.var())"
   ],
   "metadata": {
    "collapsed": false,
    "ExecuteTime": {
     "end_time": "2024-03-10T09:36:53.435529900Z",
     "start_time": "2024-03-10T09:36:53.398639100Z"
    }
   },
   "id": "b5a4c555bcbf5720",
   "execution_count": 130
  }
 ],
 "metadata": {
  "kernelspec": {
   "display_name": "Python 3",
   "language": "python",
   "name": "python3"
  },
  "language_info": {
   "codemirror_mode": {
    "name": "ipython",
    "version": 2
   },
   "file_extension": ".py",
   "mimetype": "text/x-python",
   "name": "python",
   "nbconvert_exporter": "python",
   "pygments_lexer": "ipython2",
   "version": "2.7.6"
  }
 },
 "nbformat": 4,
 "nbformat_minor": 5
}
