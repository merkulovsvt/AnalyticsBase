{
 "cells": [
  {
   "cell_type": "code",
   "outputs": [],
   "source": [
    "import pandas as pd"
   ],
   "metadata": {
    "collapsed": false
   },
   "id": "be64bc9d209d7bf9",
   "execution_count": null
  },
  {
   "cell_type": "code",
   "outputs": [],
   "source": [
    "taxi = pd.read_csv(\"https://stepik.org/media/attachments/lesson/360340/2_taxi_nyc.csv\")"
   ],
   "metadata": {
    "collapsed": false
   },
   "id": "129cd0158f54d847",
   "execution_count": null
  },
  {
   "cell_type": "code",
   "outputs": [],
   "source": [
    "taxi"
   ],
   "metadata": {
    "collapsed": false
   },
   "id": "960bbb0a10f1c5a9",
   "execution_count": null
  },
  {
   "cell_type": "code",
   "outputs": [],
   "source": [
    "taxi.groupby('borough').aggregate({'pickups': 'sum'}).sort_values(by='pickups', ascending=False)"
   ],
   "metadata": {
    "collapsed": false
   },
   "id": "fb89cfc0dc6020a0",
   "execution_count": null
  },
  {
   "cell_type": "code",
   "outputs": [],
   "source": [
    "data = taxi.groupby(['borough', 'hday']).aggregate({'pickups': 'mean'}).unstack()\n",
    "data\n",
    "# selected_cities = data[data[('pickups', 'Y')] > data[('pickups', 'N')]]\n",
    "# selected_cities\n",
    "# data.groupby('borough').quantile(0.25).plot(kind='bar')"
   ],
   "metadata": {
    "collapsed": false
   },
   "id": "c1775d0151f048e",
   "execution_count": null
  },
  {
   "cell_type": "code",
   "outputs": [],
   "source": [
    "zaza = taxi.groupby('borough').aggregate({'pickups': 'sum'}).idxmin().pickups\n",
    "print(zaza)\n",
    "taxi.groupby('borough').aggregate({'pickups': 'sum'}).iloc(zaza.pickups)"
   ],
   "metadata": {
    "collapsed": false
   },
   "id": "713e8109389648b5",
   "execution_count": null
  },
  {
   "cell_type": "code",
   "outputs": [],
   "source": [
    "pickups_by_mon_bor = taxi.groupby([\"pickup_month\", \"borough\"], as_index=False).aggregate(\n",
    "    {'pickups': 'sum'}).sort_values(by='pickups', ascending=False)\n",
    "pickups_by_mon_bor"
   ],
   "metadata": {
    "collapsed": false
   },
   "id": "6b33a52cf76e62ab",
   "execution_count": null
  },
  {
   "cell_type": "code",
   "outputs": [],
   "source": [
    "def temp_to_celcius(data):\n",
    "    return (data - 32) * 5 / 9"
   ],
   "metadata": {
    "collapsed": false
   },
   "id": "a5b7f4a62c560b59"
  }
 ],
 "metadata": {
  "kernelspec": {
   "display_name": "Python 3",
   "language": "python",
   "name": "python3"
  },
  "language_info": {
   "codemirror_mode": {
    "name": "ipython",
    "version": 2
   },
   "file_extension": ".py",
   "mimetype": "text/x-python",
   "name": "python",
   "nbconvert_exporter": "python",
   "pygments_lexer": "ipython2",
   "version": "2.7.6"
  }
 },
 "nbformat": 4,
 "nbformat_minor": 5
}
