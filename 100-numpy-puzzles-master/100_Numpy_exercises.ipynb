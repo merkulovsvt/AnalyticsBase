{
 "cells": [
  {
   "cell_type": "markdown",
   "id": "6293cc50",
   "metadata": {},
   "source": [
    "# 100 numpy exercises\n",
    "\n",
    "This is a collection of exercises that have been collected in the numpy mailing list, on stack overflow\n",
    "and in the numpy documentation. The goal of this collection is to offer a quick reference for both old\n",
    "and new users but also to provide a set of exercises for those who teach.\n",
    "\n",
    "\n",
    "If you find an error or think you've a better way to solve some of them, feel\n",
    "free to open an issue at <https://github.com/rougier/numpy-100>."
   ]
  },
  {
   "cell_type": "markdown",
   "id": "a167c052",
   "metadata": {},
   "source": [
    "File automatically generated. See the documentation to update questions/answers/hints programmatically."
   ]
  },
  {
   "cell_type": "markdown",
   "id": "57fc0ee5",
   "metadata": {},
   "source": [
    "Run the `initialize.py` module, then for each question you can query the\n",
    "answer or an hint with `hint(n)` or `answer(n)` for `n` question number."
   ]
  },
  {
   "cell_type": "code",
   "outputs": [
    {
     "ename": "ModuleNotFoundError",
     "evalue": "No module named 'mdutils'",
     "output_type": "error",
     "traceback": [
      "\u001B[1;31m---------------------------------------------------------------------------\u001B[0m",
      "\u001B[1;31mModuleNotFoundError\u001B[0m                       Traceback (most recent call last)",
      "File \u001B[1;32m~\\PycharmProjects\\AnalyticsBase\\100-numpy-puzzles-master\\initialise.py:3\u001B[0m\n\u001B[0;32m      1\u001B[0m \u001B[38;5;28;01mimport\u001B[39;00m \u001B[38;5;21;01mnumpy\u001B[39;00m \u001B[38;5;28;01mas\u001B[39;00m \u001B[38;5;21;01mnp\u001B[39;00m\n\u001B[1;32m----> 3\u001B[0m \u001B[38;5;28;01mimport\u001B[39;00m \u001B[38;5;21;01mgenerators\u001B[39;00m \u001B[38;5;28;01mas\u001B[39;00m \u001B[38;5;21;01mge\u001B[39;00m\n\u001B[0;32m      6\u001B[0m \u001B[38;5;28;01mdef\u001B[39;00m \u001B[38;5;21mquestion\u001B[39m(n):\n\u001B[0;32m      7\u001B[0m     \u001B[38;5;28mprint\u001B[39m(\u001B[38;5;124mf\u001B[39m\u001B[38;5;124m'\u001B[39m\u001B[38;5;132;01m{\u001B[39;00mn\u001B[38;5;132;01m}\u001B[39;00m\u001B[38;5;124m. \u001B[39m\u001B[38;5;124m'\u001B[39m \u001B[38;5;241m+\u001B[39m ge\u001B[38;5;241m.\u001B[39mQHA[\u001B[38;5;124mf\u001B[39m\u001B[38;5;124m'\u001B[39m\u001B[38;5;124mq\u001B[39m\u001B[38;5;132;01m{\u001B[39;00mn\u001B[38;5;132;01m}\u001B[39;00m\u001B[38;5;124m'\u001B[39m])\n",
      "File \u001B[1;32m~\\PycharmProjects\\AnalyticsBase\\100-numpy-puzzles-master\\generators.py:3\u001B[0m\n\u001B[0;32m      1\u001B[0m \u001B[38;5;28;01mimport\u001B[39;00m \u001B[38;5;21;01mos\u001B[39;00m\n\u001B[0;32m      2\u001B[0m \u001B[38;5;28;01mimport\u001B[39;00m \u001B[38;5;21;01mnbformat\u001B[39;00m \u001B[38;5;28;01mas\u001B[39;00m \u001B[38;5;21;01mnbf\u001B[39;00m\n\u001B[1;32m----> 3\u001B[0m \u001B[38;5;28;01mimport\u001B[39;00m \u001B[38;5;21;01mmdutils\u001B[39;00m\n\u001B[0;32m      6\u001B[0m \u001B[38;5;28;01mdef\u001B[39;00m \u001B[38;5;21mktx_to_dict\u001B[39m(input_file, keystarter\u001B[38;5;241m=\u001B[39m\u001B[38;5;124m'\u001B[39m\u001B[38;5;124m<\u001B[39m\u001B[38;5;124m'\u001B[39m):\n\u001B[0;32m      7\u001B[0m \u001B[38;5;250m    \u001B[39m\u001B[38;5;124;03m\"\"\" parsing keyed text to a python dictionary. \"\"\"\u001B[39;00m\n",
      "\u001B[1;31mModuleNotFoundError\u001B[0m: No module named 'mdutils'"
     ]
    }
   ],
   "source": [
    "%run initialise.py"
   ],
   "metadata": {
    "collapsed": false,
    "ExecuteTime": {
     "end_time": "2024-03-12T07:33:18.270634Z",
     "start_time": "2024-03-12T07:33:17.516358Z"
    }
   },
   "id": "950e29e380c887fe",
   "execution_count": 4
  },
  {
   "cell_type": "markdown",
   "source": [
    "#### 1. Import the numpy package under the name `np` (★☆☆)"
   ],
   "metadata": {
    "collapsed": false
   },
   "id": "9e9235c7ee0275ce"
  },
  {
   "cell_type": "code",
   "outputs": [],
   "source": [
    "import numpy as np"
   ],
   "metadata": {
    "collapsed": false,
    "ExecuteTime": {
     "end_time": "2024-03-12T07:33:23.125918Z",
     "start_time": "2024-03-12T07:33:23.113917Z"
    }
   },
   "id": "4f48c9b8ba4404c9",
   "execution_count": 5
  },
  {
   "cell_type": "markdown",
   "source": [
    "#### 2. Print the numpy version and the configuration (★☆☆)"
   ],
   "metadata": {
    "collapsed": false
   },
   "id": "66f26bc6f70b99a3"
  },
  {
   "cell_type": "code",
   "outputs": [
    {
     "name": "stdout",
     "output_type": "stream",
     "text": [
      "Build Dependencies:\n",
      "  blas:\n",
      "    detection method: pkgconfig\n",
      "    found: true\n",
      "    include directory: /c/opt/64/include\n",
      "    lib directory: /c/opt/64/lib\n",
      "    name: openblas64\n",
      "    openblas configuration: USE_64BITINT=1 DYNAMIC_ARCH=1 DYNAMIC_OLDER= NO_CBLAS=\n",
      "      NO_LAPACK= NO_LAPACKE= NO_AFFINITY=1 USE_OPENMP= SKYLAKEX MAX_THREADS=2\n",
      "    pc file directory: C:/opt/64/lib/pkgconfig\n",
      "    version: 0.3.23.dev\n",
      "  lapack:\n",
      "    detection method: internal\n",
      "    found: true\n",
      "    include directory: unknown\n",
      "    lib directory: unknown\n",
      "    name: dep1991176392224\n",
      "    openblas configuration: unknown\n",
      "    pc file directory: unknown\n",
      "    version: 1.26.4\n",
      "Compilers:\n",
      "  c:\n",
      "    commands: cl\n",
      "    linker: link\n",
      "    name: msvc\n",
      "    version: 19.29.30153\n",
      "  c++:\n",
      "    commands: cl\n",
      "    linker: link\n",
      "    name: msvc\n",
      "    version: 19.29.30153\n",
      "  cython:\n",
      "    commands: cython\n",
      "    linker: cython\n",
      "    name: cython\n",
      "    version: 3.0.8\n",
      "Machine Information:\n",
      "  build:\n",
      "    cpu: x86_64\n",
      "    endian: little\n",
      "    family: x86_64\n",
      "    system: windows\n",
      "  host:\n",
      "    cpu: x86_64\n",
      "    endian: little\n",
      "    family: x86_64\n",
      "    system: windows\n",
      "Python Information:\n",
      "  path: C:\\Users\\runneradmin\\AppData\\Local\\Temp\\cibw-run-ttpxlqh5\\cp310-win_amd64\\build\\venv\\Scripts\\python.exe\n",
      "  version: '3.10'\n",
      "SIMD Extensions:\n",
      "  baseline:\n",
      "  - SSE\n",
      "  - SSE2\n",
      "  - SSE3\n",
      "  found:\n",
      "  - SSSE3\n",
      "  - SSE41\n",
      "  - POPCNT\n",
      "  - SSE42\n",
      "  - AVX\n",
      "  - F16C\n",
      "  - FMA3\n",
      "  - AVX2\n",
      "  not found:\n",
      "  - AVX512F\n",
      "  - AVX512CD\n",
      "  - AVX512_SKX\n",
      "  - AVX512_CLX\n",
      "  - AVX512_CNL\n",
      "  - AVX512_ICL\n"
     ]
    }
   ],
   "source": [
    "np.__version__\n",
    "np.show_config()"
   ],
   "metadata": {
    "collapsed": false,
    "ExecuteTime": {
     "end_time": "2024-03-12T08:17:43.271900Z",
     "start_time": "2024-03-12T08:17:43.141448Z"
    }
   },
   "id": "8341c52a65753ea0",
   "execution_count": 11
  },
  {
   "cell_type": "markdown",
   "source": [
    "#### 3. Create a null vector of size 10 (★☆☆)"
   ],
   "metadata": {
    "collapsed": false
   },
   "id": "185fd9e566ef99fa"
  },
  {
   "cell_type": "code",
   "outputs": [
    {
     "data": {
      "text/plain": "(array([0], dtype=int64),)"
     },
     "execution_count": 9,
     "metadata": {},
     "output_type": "execute_result"
    }
   ],
   "source": [
    "n"
   ],
   "metadata": {
    "collapsed": false,
    "ExecuteTime": {
     "end_time": "2024-03-12T07:34:07.875643Z",
     "start_time": "2024-03-12T07:34:07.865599Z"
    }
   },
   "id": "144bfa3ce890be23",
   "execution_count": 9
  },
  {
   "cell_type": "markdown",
   "source": [
    "#### 4. How to find the memory size of any array (★☆☆)"
   ],
   "metadata": {
    "collapsed": false
   },
   "id": "fb9fb012236a6258"
  },
  {
   "cell_type": "code",
   "outputs": [],
   "source": [],
   "metadata": {
    "collapsed": false
   },
   "id": "c8955ba91f2a27c1"
  },
  {
   "cell_type": "markdown",
   "source": [
    "#### 5. How to get the documentation of the numpy add function from the command line? (★☆☆)"
   ],
   "metadata": {
    "collapsed": false
   },
   "id": "2de50bdac9f358c2"
  },
  {
   "cell_type": "code",
   "outputs": [],
   "source": [],
   "metadata": {
    "collapsed": false
   },
   "id": "a62c2d07c3076da4"
  },
  {
   "cell_type": "markdown",
   "source": [
    "#### 6. Create a null vector of size 10 but the fifth value which is 1 (★☆☆)"
   ],
   "metadata": {
    "collapsed": false
   },
   "id": "ec78329f066a5f18"
  },
  {
   "cell_type": "code",
   "outputs": [],
   "source": [],
   "metadata": {
    "collapsed": false
   },
   "id": "34fbdfa4e4592e5b"
  },
  {
   "cell_type": "markdown",
   "source": [
    "#### 7. Create a vector with values ranging from 10 to 49 (★☆☆)"
   ],
   "metadata": {
    "collapsed": false
   },
   "id": "9496ec2e98c60f1c"
  },
  {
   "cell_type": "code",
   "outputs": [],
   "source": [],
   "metadata": {
    "collapsed": false
   },
   "id": "c7d6a893805c150a"
  },
  {
   "cell_type": "markdown",
   "source": [
    "#### 8. Reverse a vector (first element becomes last) (★☆☆)"
   ],
   "metadata": {
    "collapsed": false
   },
   "id": "d84ba78dc8add2b4"
  },
  {
   "cell_type": "code",
   "outputs": [],
   "source": [],
   "metadata": {
    "collapsed": false
   },
   "id": "594d55325c4effd6"
  },
  {
   "cell_type": "markdown",
   "source": [
    "#### 9. Create a 3x3 matrix with values ranging from 0 to 8 (★☆☆)"
   ],
   "metadata": {
    "collapsed": false
   },
   "id": "1be286f597135c13"
  },
  {
   "cell_type": "code",
   "outputs": [],
   "source": [],
   "metadata": {
    "collapsed": false
   },
   "id": "5a73ef591def02db"
  },
  {
   "cell_type": "markdown",
   "source": [
    "#### 10. Find indices of non-zero elements from [1,2,0,0,4,0] (★☆☆)"
   ],
   "metadata": {
    "collapsed": false
   },
   "id": "b609421a3c048229"
  },
  {
   "cell_type": "code",
   "outputs": [],
   "source": [],
   "metadata": {
    "collapsed": false
   },
   "id": "1434dac1143c8e16"
  },
  {
   "cell_type": "markdown",
   "source": [
    "#### 11. Create a 3x3 identity matrix (★☆☆)"
   ],
   "metadata": {
    "collapsed": false
   },
   "id": "5bc427747763b2e"
  },
  {
   "cell_type": "code",
   "outputs": [],
   "source": [],
   "metadata": {
    "collapsed": false
   },
   "id": "d1cf5e941650ea13"
  },
  {
   "cell_type": "markdown",
   "source": [
    "#### 12. Create a 3x3x3 array with random values (★☆☆)"
   ],
   "metadata": {
    "collapsed": false
   },
   "id": "ea984bffdba01b05"
  },
  {
   "cell_type": "code",
   "outputs": [],
   "source": [],
   "metadata": {
    "collapsed": false
   },
   "id": "235236d01cd13732"
  },
  {
   "cell_type": "markdown",
   "source": [
    "#### 13. Create a 10x10 array with random values and find the minimum and maximum values (★☆☆)"
   ],
   "metadata": {
    "collapsed": false
   },
   "id": "3c04a09fff4fdcdf"
  },
  {
   "cell_type": "code",
   "outputs": [],
   "source": [],
   "metadata": {
    "collapsed": false
   },
   "id": "e02cbf0bdd90cd1b"
  },
  {
   "cell_type": "markdown",
   "source": [
    "#### 14. Create a random vector of size 30 and find the mean value (★☆☆)"
   ],
   "metadata": {
    "collapsed": false
   },
   "id": "206b04f8d99ab38c"
  },
  {
   "cell_type": "code",
   "outputs": [],
   "source": [],
   "metadata": {
    "collapsed": false
   },
   "id": "57bb000cf47d2421"
  },
  {
   "cell_type": "markdown",
   "source": [
    "#### 15. Create a 2d array with 1 on the border and 0 inside (★☆☆)"
   ],
   "metadata": {
    "collapsed": false
   },
   "id": "11426f0bd55d5a15"
  },
  {
   "cell_type": "code",
   "outputs": [],
   "source": [],
   "metadata": {
    "collapsed": false
   },
   "id": "7934a882ab43a098"
  },
  {
   "cell_type": "markdown",
   "source": [
    "#### 16. How to add a border (filled with 0's) around an existing array? (★☆☆)"
   ],
   "metadata": {
    "collapsed": false
   },
   "id": "b5016a6c68234d34"
  },
  {
   "cell_type": "code",
   "outputs": [],
   "source": [],
   "metadata": {
    "collapsed": false
   },
   "id": "e7e7d902e17e0224"
  },
  {
   "cell_type": "markdown",
   "source": [
    "#### 17. What is the result of the following expression? (★☆☆)\n",
    "```python\n",
    "0 * np.nan\n",
    "np.nan == np.nan\n",
    "np.inf > np.nan\n",
    "np.nan - np.nan\n",
    "np.nan in set([np.nan])\n",
    "0.3 == 3 * 0.1\n",
    "```"
   ],
   "metadata": {
    "collapsed": false
   },
   "id": "5c7f3719bccb44bb"
  },
  {
   "cell_type": "code",
   "outputs": [],
   "source": [],
   "metadata": {
    "collapsed": false
   },
   "id": "9f7454223b496a5e"
  },
  {
   "cell_type": "markdown",
   "source": [
    "#### 18. Create a 5x5 matrix with values 1,2,3,4 just below the diagonal (★☆☆)"
   ],
   "metadata": {
    "collapsed": false
   },
   "id": "c1571637b8aa7146"
  },
  {
   "cell_type": "code",
   "outputs": [],
   "source": [],
   "metadata": {
    "collapsed": false
   },
   "id": "52ccdb89b716dd1"
  },
  {
   "cell_type": "markdown",
   "source": [
    "#### 19. Create a 8x8 matrix and fill it with a checkerboard pattern (★☆☆)"
   ],
   "metadata": {
    "collapsed": false
   },
   "id": "150c829b5ab1078d"
  },
  {
   "cell_type": "code",
   "outputs": [],
   "source": [],
   "metadata": {
    "collapsed": false
   },
   "id": "3213c922d349418c"
  },
  {
   "cell_type": "markdown",
   "source": [
    "#### 20. Consider a (6,7,8) shape array, what is the index (x,y,z) of the 100th element? (★☆☆)"
   ],
   "metadata": {
    "collapsed": false
   },
   "id": "5137149552a513b2"
  },
  {
   "cell_type": "code",
   "outputs": [],
   "source": [],
   "metadata": {
    "collapsed": false
   },
   "id": "fb76a02120796b7a"
  },
  {
   "cell_type": "markdown",
   "source": [
    "#### 21. Create a checkerboard 8x8 matrix using the tile function (★☆☆)"
   ],
   "metadata": {
    "collapsed": false
   },
   "id": "4454e0fb7ee18ea6"
  },
  {
   "cell_type": "code",
   "outputs": [],
   "source": [],
   "metadata": {
    "collapsed": false
   },
   "id": "1e6331f5a601f630"
  },
  {
   "cell_type": "markdown",
   "source": [
    "#### 22. Normalize a 5x5 random matrix (★☆☆)"
   ],
   "metadata": {
    "collapsed": false
   },
   "id": "de49c28b34b6e7a9"
  },
  {
   "cell_type": "code",
   "outputs": [],
   "source": [],
   "metadata": {
    "collapsed": false
   },
   "id": "7900ccbcb4ddabf0"
  },
  {
   "cell_type": "markdown",
   "source": [
    "#### 23. Create a custom dtype that describes a color as four unsigned bytes (RGBA) (★☆☆)"
   ],
   "metadata": {
    "collapsed": false
   },
   "id": "1aacca5c65828484"
  },
  {
   "cell_type": "code",
   "outputs": [],
   "source": [],
   "metadata": {
    "collapsed": false
   },
   "id": "b2a3953cb6c2e5db"
  },
  {
   "cell_type": "markdown",
   "source": [
    "#### 24. Multiply a 5x3 matrix by a 3x2 matrix (real matrix product) (★☆☆)"
   ],
   "metadata": {
    "collapsed": false
   },
   "id": "cc2ceb9d90c185d6"
  },
  {
   "cell_type": "code",
   "outputs": [],
   "source": [],
   "metadata": {
    "collapsed": false
   },
   "id": "29f4bcba8809eef6"
  },
  {
   "cell_type": "markdown",
   "source": [
    "#### 25. Given a 1D array, negate all elements which are between 3 and 8, in place. (★☆☆)"
   ],
   "metadata": {
    "collapsed": false
   },
   "id": "e1e4ee766c788030"
  },
  {
   "cell_type": "code",
   "outputs": [],
   "source": [],
   "metadata": {
    "collapsed": false
   },
   "id": "c9fa0f8bbf26efa8"
  },
  {
   "cell_type": "markdown",
   "source": [
    "#### 26. What is the output of the following script? (★☆☆)\n",
    "```python\n",
    "# Author: Jake VanderPlas\n",
    "\n",
    "print(sum(range(5),-1))\n",
    "from numpy import *\n",
    "print(sum(range(5),-1))\n",
    "```"
   ],
   "metadata": {
    "collapsed": false
   },
   "id": "bb5dabb9c614ed51"
  },
  {
   "cell_type": "code",
   "outputs": [],
   "source": [],
   "metadata": {
    "collapsed": false
   },
   "id": "53e11962de001777"
  },
  {
   "cell_type": "markdown",
   "source": [
    "#### 27. Consider an integer vector Z, which of these expressions are legal? (★☆☆)\n",
    "```python\n",
    "Z**Z\n",
    "2 << Z >> 2\n",
    "Z <- Z\n",
    "1j*Z\n",
    "Z/1/1\n",
    "Z<Z>Z\n",
    "```"
   ],
   "metadata": {
    "collapsed": false
   },
   "id": "ebc67e9d3a286bce"
  },
  {
   "cell_type": "code",
   "outputs": [],
   "source": [],
   "metadata": {
    "collapsed": false
   },
   "id": "4bc53482a117045b"
  },
  {
   "cell_type": "markdown",
   "source": [
    "#### 28. What are the result of the following expressions? (★☆☆)\n",
    "```python\n",
    "np.array(0) / np.array(0)\n",
    "np.array(0) // np.array(0)\n",
    "np.array([np.nan]).astype(int).astype(float)\n",
    "```"
   ],
   "metadata": {
    "collapsed": false
   },
   "id": "429c01d5436d8348"
  },
  {
   "cell_type": "code",
   "outputs": [],
   "source": [],
   "metadata": {
    "collapsed": false
   },
   "id": "a2010bdcb40bd81"
  },
  {
   "cell_type": "markdown",
   "source": [
    "#### 29. How to round away from zero a float array ? (★☆☆)"
   ],
   "metadata": {
    "collapsed": false
   },
   "id": "acda337b2ed390a6"
  },
  {
   "cell_type": "code",
   "outputs": [],
   "source": [],
   "metadata": {
    "collapsed": false
   },
   "id": "92dd6c3e23145b46"
  },
  {
   "cell_type": "markdown",
   "source": [
    "#### 30. How to find common values between two arrays? (★☆☆)"
   ],
   "metadata": {
    "collapsed": false
   },
   "id": "a2616bc230eaf173"
  },
  {
   "cell_type": "code",
   "outputs": [],
   "source": [],
   "metadata": {
    "collapsed": false
   },
   "id": "36d4165a46e501a5"
  },
  {
   "cell_type": "markdown",
   "source": [
    "#### 31. How to ignore all numpy warnings (not recommended)? (★☆☆)"
   ],
   "metadata": {
    "collapsed": false
   },
   "id": "40a5a95fd133f4a7"
  },
  {
   "cell_type": "code",
   "outputs": [],
   "source": [],
   "metadata": {
    "collapsed": false
   },
   "id": "2195769350233f46"
  },
  {
   "cell_type": "markdown",
   "source": [
    "#### 32. Is the following expressions true? (★☆☆)\n",
    "```python\n",
    "np.sqrt(-1) == np.emath.sqrt(-1)\n",
    "```"
   ],
   "metadata": {
    "collapsed": false
   },
   "id": "480b76ff1c79892a"
  },
  {
   "cell_type": "code",
   "outputs": [],
   "source": [],
   "metadata": {
    "collapsed": false
   },
   "id": "d0a69786e1f94014"
  },
  {
   "cell_type": "markdown",
   "source": [
    "#### 33. How to get the dates of yesterday, today and tomorrow? (★☆☆)"
   ],
   "metadata": {
    "collapsed": false
   },
   "id": "78a436d0d2c6abc1"
  },
  {
   "cell_type": "code",
   "outputs": [],
   "source": [],
   "metadata": {
    "collapsed": false
   },
   "id": "c5704e84409e534b"
  },
  {
   "cell_type": "markdown",
   "source": [
    "#### 34. How to get all the dates corresponding to the month of July 2016? (★★☆)"
   ],
   "metadata": {
    "collapsed": false
   },
   "id": "50a942560bf3b3e6"
  },
  {
   "cell_type": "code",
   "outputs": [],
   "source": [],
   "metadata": {
    "collapsed": false
   },
   "id": "a7202479051c84b3"
  },
  {
   "cell_type": "markdown",
   "source": [
    "#### 35. How to compute ((A+B)*(-A/2)) in place (without copy)? (★★☆)"
   ],
   "metadata": {
    "collapsed": false
   },
   "id": "ae4197022b43f6ea"
  },
  {
   "cell_type": "code",
   "outputs": [],
   "source": [],
   "metadata": {
    "collapsed": false
   },
   "id": "7ea25297a98ae593"
  },
  {
   "cell_type": "markdown",
   "source": [
    "#### 36. Extract the integer part of a random array of positive numbers using 4 different methods (★★☆)"
   ],
   "metadata": {
    "collapsed": false
   },
   "id": "ec882687c7c82e9"
  },
  {
   "cell_type": "code",
   "outputs": [],
   "source": [],
   "metadata": {
    "collapsed": false
   },
   "id": "6e9a844f1fb618b4"
  },
  {
   "cell_type": "markdown",
   "source": [
    "#### 37. Create a 5x5 matrix with row values ranging from 0 to 4 (★★☆)"
   ],
   "metadata": {
    "collapsed": false
   },
   "id": "eec2440ca9c1bc56"
  },
  {
   "cell_type": "code",
   "outputs": [],
   "source": [],
   "metadata": {
    "collapsed": false
   },
   "id": "17bb61e2fb5c43a6"
  },
  {
   "cell_type": "markdown",
   "source": [
    "#### 38. Consider a generator function that generates 10 integers and use it to build an array (★☆☆)"
   ],
   "metadata": {
    "collapsed": false
   },
   "id": "387409ef5e313f0d"
  },
  {
   "cell_type": "code",
   "outputs": [],
   "source": [],
   "metadata": {
    "collapsed": false
   },
   "id": "6902168136f7f0f8"
  },
  {
   "cell_type": "markdown",
   "source": [
    "#### 39. Create a vector of size 10 with values ranging from 0 to 1, both excluded (★★☆)"
   ],
   "metadata": {
    "collapsed": false
   },
   "id": "3223956f872efd8d"
  },
  {
   "cell_type": "code",
   "outputs": [],
   "source": [],
   "metadata": {
    "collapsed": false
   },
   "id": "3b730fc824740d73"
  },
  {
   "cell_type": "markdown",
   "source": [
    "#### 40. Create a random vector of size 10 and sort it (★★☆)"
   ],
   "metadata": {
    "collapsed": false
   },
   "id": "80594008dd6db9bb"
  },
  {
   "cell_type": "code",
   "outputs": [],
   "source": [],
   "metadata": {
    "collapsed": false
   },
   "id": "cc3feb80436ade74"
  },
  {
   "cell_type": "markdown",
   "source": [
    "#### 41. How to sum a small array faster than np.sum? (★★☆)"
   ],
   "metadata": {
    "collapsed": false
   },
   "id": "354ff6e4b760b1dc"
  },
  {
   "cell_type": "code",
   "outputs": [],
   "source": [],
   "metadata": {
    "collapsed": false
   },
   "id": "71c6205bbe0319d6"
  },
  {
   "cell_type": "markdown",
   "source": [
    "#### 42. Consider two random array A and B, check if they are equal (★★☆)"
   ],
   "metadata": {
    "collapsed": false
   },
   "id": "775e34e7b012f09e"
  },
  {
   "cell_type": "code",
   "outputs": [],
   "source": [],
   "metadata": {
    "collapsed": false
   },
   "id": "c50b70ac9545ab13"
  },
  {
   "cell_type": "markdown",
   "source": [
    "#### 43. Make an array immutable (read-only) (★★☆)"
   ],
   "metadata": {
    "collapsed": false
   },
   "id": "8f6b7c807a5e29fd"
  },
  {
   "cell_type": "code",
   "outputs": [],
   "source": [],
   "metadata": {
    "collapsed": false
   },
   "id": "8c70db355fe96d44"
  },
  {
   "cell_type": "markdown",
   "source": [
    "#### 44. Consider a random 10x2 matrix representing cartesian coordinates, convert them to polar coordinates (★★☆)"
   ],
   "metadata": {
    "collapsed": false
   },
   "id": "36da0dd2739b50a"
  },
  {
   "cell_type": "code",
   "outputs": [],
   "source": [],
   "metadata": {
    "collapsed": false
   },
   "id": "e5ee75894f845af9"
  },
  {
   "cell_type": "markdown",
   "source": [
    "#### 45. Create random vector of size 10 and replace the maximum value by 0 (★★☆)"
   ],
   "metadata": {
    "collapsed": false
   },
   "id": "d5f76638fc6f5c42"
  },
  {
   "cell_type": "code",
   "outputs": [],
   "source": [],
   "metadata": {
    "collapsed": false
   },
   "id": "c80d1e126381cbc0"
  },
  {
   "cell_type": "markdown",
   "source": [
    "#### 46. Create a structured array with `x` and `y` coordinates covering the [0,1]x[0,1] area (★★☆)"
   ],
   "metadata": {
    "collapsed": false
   },
   "id": "9c2aa45fdd2b3eeb"
  },
  {
   "cell_type": "code",
   "outputs": [],
   "source": [],
   "metadata": {
    "collapsed": false
   },
   "id": "325fc506ea58d251"
  },
  {
   "cell_type": "markdown",
   "source": [
    "#### 47. Given two arrays, X and Y, construct the Cauchy matrix C (Cij =1/(xi - yj)) (★★☆)"
   ],
   "metadata": {
    "collapsed": false
   },
   "id": "db26821e2d3ceb7f"
  },
  {
   "cell_type": "code",
   "outputs": [],
   "source": [],
   "metadata": {
    "collapsed": false
   },
   "id": "d17877b95d36706c"
  },
  {
   "cell_type": "markdown",
   "source": [
    "#### 48. Print the minimum and maximum representable value for each numpy scalar type (★★☆)"
   ],
   "metadata": {
    "collapsed": false
   },
   "id": "b579dab7d7d6693b"
  },
  {
   "cell_type": "code",
   "outputs": [],
   "source": [],
   "metadata": {
    "collapsed": false
   },
   "id": "15435ae286264f44"
  },
  {
   "cell_type": "markdown",
   "source": [
    "#### 49. How to print all the values of an array? (★★☆)"
   ],
   "metadata": {
    "collapsed": false
   },
   "id": "e158e0f421198b6e"
  },
  {
   "cell_type": "code",
   "outputs": [],
   "source": [],
   "metadata": {
    "collapsed": false
   },
   "id": "c3af8a52df803cd2"
  },
  {
   "cell_type": "markdown",
   "source": [
    "#### 50. How to find the closest value (to a given scalar) in a vector? (★★☆)"
   ],
   "metadata": {
    "collapsed": false
   },
   "id": "4943603dbd402edc"
  },
  {
   "cell_type": "code",
   "outputs": [],
   "source": [],
   "metadata": {
    "collapsed": false
   },
   "id": "edf349f91fc3468a"
  },
  {
   "cell_type": "markdown",
   "source": [
    "#### 51. Create a structured array representing a position (x,y) and a color (r,g,b) (★★☆)"
   ],
   "metadata": {
    "collapsed": false
   },
   "id": "4e30dc8ac1e3604f"
  },
  {
   "cell_type": "code",
   "outputs": [],
   "source": [],
   "metadata": {
    "collapsed": false
   },
   "id": "ee565c2813d00222"
  },
  {
   "cell_type": "markdown",
   "source": [
    "#### 52. Consider a random vector with shape (100,2) representing coordinates, find point by point distances (★★☆)"
   ],
   "metadata": {
    "collapsed": false
   },
   "id": "2493d8f85635fbec"
  },
  {
   "cell_type": "code",
   "outputs": [],
   "source": [],
   "metadata": {
    "collapsed": false
   },
   "id": "fe7296e45cb0fc1d"
  },
  {
   "cell_type": "markdown",
   "source": [
    "#### 53. How to convert a float (32 bits) array into an integer (32 bits) in place?"
   ],
   "metadata": {
    "collapsed": false
   },
   "id": "a18c4cbf36b7f47e"
  },
  {
   "cell_type": "code",
   "outputs": [],
   "source": [],
   "metadata": {
    "collapsed": false
   },
   "id": "d6a18edeedde53eb"
  },
  {
   "cell_type": "markdown",
   "source": [
    "#### 54. How to read the following file? (★★☆)\n",
    "```\n",
    "1, 2, 3, 4, 5\n",
    "6,  ,  , 7, 8\n",
    " ,  , 9,10,11\n",
    "```"
   ],
   "metadata": {
    "collapsed": false
   },
   "id": "b454858c60e529c3"
  },
  {
   "cell_type": "code",
   "outputs": [],
   "source": [],
   "metadata": {
    "collapsed": false
   },
   "id": "378fa5408b4cf1f3"
  },
  {
   "cell_type": "markdown",
   "source": [
    "#### 55. What is the equivalent of enumerate for numpy arrays? (★★☆)"
   ],
   "metadata": {
    "collapsed": false
   },
   "id": "1a922d346d9543b"
  },
  {
   "cell_type": "code",
   "outputs": [],
   "source": [],
   "metadata": {
    "collapsed": false
   },
   "id": "3859cc84b7b811f3"
  },
  {
   "cell_type": "markdown",
   "source": [
    "#### 56. Generate a generic 2D Gaussian-like array (★★☆)"
   ],
   "metadata": {
    "collapsed": false
   },
   "id": "8e8e563fefef96a2"
  },
  {
   "cell_type": "code",
   "outputs": [],
   "source": [],
   "metadata": {
    "collapsed": false
   },
   "id": "659a71ca60e4f8f7"
  },
  {
   "cell_type": "markdown",
   "source": [
    "#### 57. How to randomly place p elements in a 2D array? (★★☆)"
   ],
   "metadata": {
    "collapsed": false
   },
   "id": "f587c6cbd68ebfac"
  },
  {
   "cell_type": "code",
   "outputs": [],
   "source": [],
   "metadata": {
    "collapsed": false
   },
   "id": "59e1b980a6b965e8"
  },
  {
   "cell_type": "markdown",
   "source": [
    "#### 58. Subtract the mean of each row of a matrix (★★☆)"
   ],
   "metadata": {
    "collapsed": false
   },
   "id": "8f4f7989d35a8f0a"
  },
  {
   "cell_type": "code",
   "outputs": [],
   "source": [],
   "metadata": {
    "collapsed": false
   },
   "id": "b6eee7faef1bd2d1"
  },
  {
   "cell_type": "markdown",
   "source": [
    "#### 59. How to sort an array by the nth column? (★★☆)"
   ],
   "metadata": {
    "collapsed": false
   },
   "id": "fc71c3f4e7ca1d4c"
  },
  {
   "cell_type": "code",
   "outputs": [],
   "source": [],
   "metadata": {
    "collapsed": false
   },
   "id": "10546df56b752971"
  },
  {
   "cell_type": "markdown",
   "source": [
    "#### 60. How to tell if a given 2D array has null columns? (★★☆)"
   ],
   "metadata": {
    "collapsed": false
   },
   "id": "6bdec4a8eddfdf2e"
  },
  {
   "cell_type": "code",
   "outputs": [],
   "source": [],
   "metadata": {
    "collapsed": false
   },
   "id": "d58b004e561f6f54"
  },
  {
   "cell_type": "markdown",
   "source": [
    "#### 61. Find the nearest value from a given value in an array (★★☆)"
   ],
   "metadata": {
    "collapsed": false
   },
   "id": "53deaa3b5552043f"
  },
  {
   "cell_type": "code",
   "outputs": [],
   "source": [],
   "metadata": {
    "collapsed": false
   },
   "id": "ae0f4a16d08933f2"
  },
  {
   "cell_type": "markdown",
   "source": [
    "#### 62. Considering two arrays with shape (1,3) and (3,1), how to compute their sum using an iterator? (★★☆)"
   ],
   "metadata": {
    "collapsed": false
   },
   "id": "ad66148695227ba8"
  },
  {
   "cell_type": "code",
   "outputs": [],
   "source": [],
   "metadata": {
    "collapsed": false
   },
   "id": "d57f2214b943e0b8"
  },
  {
   "cell_type": "markdown",
   "source": [
    "#### 63. Create an array class that has a name attribute (★★☆)"
   ],
   "metadata": {
    "collapsed": false
   },
   "id": "7b95f4d6a7ae2d11"
  },
  {
   "cell_type": "code",
   "outputs": [],
   "source": [],
   "metadata": {
    "collapsed": false
   },
   "id": "54c161e2ce91f68b"
  },
  {
   "cell_type": "markdown",
   "source": [
    "#### 64. Consider a given vector, how to add 1 to each element indexed by a second vector (be careful with repeated indices)? (★★★)"
   ],
   "metadata": {
    "collapsed": false
   },
   "id": "d9ec7b4d2c3e0341"
  },
  {
   "cell_type": "code",
   "outputs": [],
   "source": [],
   "metadata": {
    "collapsed": false
   },
   "id": "3ea3b29e8bb688bd"
  },
  {
   "cell_type": "markdown",
   "source": [
    "#### 65. How to accumulate elements of a vector (X) to an array (F) based on an index list (I)? (★★★)"
   ],
   "metadata": {
    "collapsed": false
   },
   "id": "f88b2c6252f05f4e"
  },
  {
   "cell_type": "code",
   "outputs": [],
   "source": [],
   "metadata": {
    "collapsed": false
   },
   "id": "34fda7806dfaea2a"
  },
  {
   "cell_type": "markdown",
   "source": [
    "#### 66. Considering a (w,h,3) image of (dtype=ubyte), compute the number of unique colors (★★☆)"
   ],
   "metadata": {
    "collapsed": false
   },
   "id": "e73562e62224152c"
  },
  {
   "cell_type": "code",
   "outputs": [],
   "source": [],
   "metadata": {
    "collapsed": false
   },
   "id": "488614b784d8e9f0"
  },
  {
   "cell_type": "markdown",
   "source": [
    "#### 67. Considering a four dimensions array, how to get sum over the last two axis at once? (★★★)"
   ],
   "metadata": {
    "collapsed": false
   },
   "id": "31f483e6c7517b55"
  },
  {
   "cell_type": "code",
   "outputs": [],
   "source": [],
   "metadata": {
    "collapsed": false
   },
   "id": "e0a7506e0505dbe6"
  },
  {
   "cell_type": "markdown",
   "source": [
    "#### 68. Considering a one-dimensional vector D, how to compute means of subsets of D using a vector S of same size describing subset  indices? (★★★)"
   ],
   "metadata": {
    "collapsed": false
   },
   "id": "78cb9e561a78e639"
  },
  {
   "cell_type": "code",
   "outputs": [],
   "source": [],
   "metadata": {
    "collapsed": false
   },
   "id": "d65697f33be59d4d"
  },
  {
   "cell_type": "markdown",
   "source": [
    "#### 69. How to get the diagonal of a dot product? (★★★)"
   ],
   "metadata": {
    "collapsed": false
   },
   "id": "6db6554ccdceca1f"
  },
  {
   "cell_type": "code",
   "outputs": [],
   "source": [],
   "metadata": {
    "collapsed": false
   },
   "id": "154fd68d15e3d2d2"
  },
  {
   "cell_type": "markdown",
   "source": [
    "#### 70. Consider the vector [1, 2, 3, 4, 5], how to build a new vector with 3 consecutive zeros interleaved between each value? (★★★)"
   ],
   "metadata": {
    "collapsed": false
   },
   "id": "dbe33ee525616492"
  },
  {
   "cell_type": "code",
   "outputs": [],
   "source": [],
   "metadata": {
    "collapsed": false
   },
   "id": "c8713f7f01bb2a42"
  },
  {
   "cell_type": "markdown",
   "source": [
    "#### 71. Consider an array of dimension (5,5,3), how to mulitply it by an array with dimensions (5,5)? (★★★)"
   ],
   "metadata": {
    "collapsed": false
   },
   "id": "fd1cc73df000e185"
  },
  {
   "cell_type": "code",
   "outputs": [],
   "source": [],
   "metadata": {
    "collapsed": false
   },
   "id": "f02548a9a5f96eab"
  },
  {
   "cell_type": "markdown",
   "source": [
    "#### 72. How to swap two rows of an array? (★★★)"
   ],
   "metadata": {
    "collapsed": false
   },
   "id": "f41d1c7785d2bd7"
  },
  {
   "cell_type": "code",
   "outputs": [],
   "source": [],
   "metadata": {
    "collapsed": false
   },
   "id": "1e54a54439eccb0a"
  },
  {
   "cell_type": "markdown",
   "source": [
    "#### 73. Consider a set of 10 triplets describing 10 triangles (with shared vertices), find the set of unique line segments composing all the  triangles (★★★)"
   ],
   "metadata": {
    "collapsed": false
   },
   "id": "b179a685f0f49ee6"
  },
  {
   "cell_type": "code",
   "outputs": [],
   "source": [],
   "metadata": {
    "collapsed": false
   },
   "id": "ce0fc1ca2592a87f"
  },
  {
   "cell_type": "markdown",
   "source": [
    "#### 74. Given a sorted array C that corresponds to a bincount, how to produce an array A such that np.bincount(A) == C? (★★★)"
   ],
   "metadata": {
    "collapsed": false
   },
   "id": "ed9a0c4c1752eec6"
  },
  {
   "cell_type": "code",
   "outputs": [],
   "source": [],
   "metadata": {
    "collapsed": false
   },
   "id": "90f48d7306b753f3"
  },
  {
   "cell_type": "markdown",
   "source": [
    "#### 75. How to compute averages using a sliding window over an array? (★★★)"
   ],
   "metadata": {
    "collapsed": false
   },
   "id": "3723fed637c67c62"
  },
  {
   "cell_type": "code",
   "outputs": [],
   "source": [],
   "metadata": {
    "collapsed": false
   },
   "id": "4e4c5631eef4e163"
  },
  {
   "cell_type": "markdown",
   "source": [
    "#### 76. Consider a one-dimensional array Z, build a two-dimensional array whose first row is (Z[0],Z[1],Z[2]) and each subsequent row is  shifted by 1 (last row should be (Z[-3],Z[-2],Z[-1]) (★★★)"
   ],
   "metadata": {
    "collapsed": false
   },
   "id": "8cadb603dea27ada"
  },
  {
   "cell_type": "code",
   "outputs": [],
   "source": [],
   "metadata": {
    "collapsed": false
   },
   "id": "e6fe599d21fee79d"
  },
  {
   "cell_type": "markdown",
   "source": [
    "#### 77. How to negate a boolean, or to change the sign of a float inplace? (★★★)"
   ],
   "metadata": {
    "collapsed": false
   },
   "id": "f1155755d101979f"
  },
  {
   "cell_type": "code",
   "outputs": [],
   "source": [],
   "metadata": {
    "collapsed": false
   },
   "id": "8d63d225d4c4d428"
  },
  {
   "cell_type": "markdown",
   "source": [
    "#### 78. Consider 2 sets of points P0,P1 describing lines (2d) and a point p, how to compute distance from p to each line i (P0[i],P1[i])? (★★★)"
   ],
   "metadata": {
    "collapsed": false
   },
   "id": "3843c1f547a5207"
  },
  {
   "cell_type": "code",
   "outputs": [],
   "source": [],
   "metadata": {
    "collapsed": false
   },
   "id": "8209d9bc701bdd26"
  },
  {
   "cell_type": "markdown",
   "source": [
    "#### 79. Consider 2 sets of points P0,P1 describing lines (2d) and a set of points P, how to compute distance from each point j (P[j]) to each line i (P0[i],P1[i])? (★★★)"
   ],
   "metadata": {
    "collapsed": false
   },
   "id": "cfbf75b5d0ce1989"
  },
  {
   "cell_type": "code",
   "outputs": [],
   "source": [],
   "metadata": {
    "collapsed": false
   },
   "id": "8915c3c492ca65ea"
  },
  {
   "cell_type": "markdown",
   "source": [
    "#### 80. Consider an arbitrary array, write a function that extract a subpart with a fixed shape and centered on a given element (pad with a `fill` value when necessary) (★★★)"
   ],
   "metadata": {
    "collapsed": false
   },
   "id": "697652c1a0b66856"
  },
  {
   "cell_type": "code",
   "outputs": [],
   "source": [],
   "metadata": {
    "collapsed": false
   },
   "id": "5a6b5acd23fe39eb"
  },
  {
   "cell_type": "markdown",
   "source": [
    "#### 81. Consider an array Z = [1,2,3,4,5,6,7,8,9,10,11,12,13,14], how to generate an array R = [[1,2,3,4], [2,3,4,5], [3,4,5,6], ..., [11,12,13,14]]? (★★★)"
   ],
   "metadata": {
    "collapsed": false
   },
   "id": "202ec5a8d5c9061a"
  },
  {
   "cell_type": "code",
   "outputs": [],
   "source": [],
   "metadata": {
    "collapsed": false
   },
   "id": "17d9b7517a79aa88"
  },
  {
   "cell_type": "markdown",
   "source": [
    "#### 82. Compute a matrix rank (★★★)"
   ],
   "metadata": {
    "collapsed": false
   },
   "id": "7cc9dac44c4099c2"
  },
  {
   "cell_type": "code",
   "outputs": [],
   "source": [],
   "metadata": {
    "collapsed": false
   },
   "id": "c79039c0d7f1725e"
  },
  {
   "cell_type": "markdown",
   "source": [
    "#### 83. How to find the most frequent value in an array?"
   ],
   "metadata": {
    "collapsed": false
   },
   "id": "fdfd258cfe1ae6ee"
  },
  {
   "cell_type": "code",
   "outputs": [],
   "source": [],
   "metadata": {
    "collapsed": false
   },
   "id": "6eadd9276a7879f9"
  },
  {
   "cell_type": "markdown",
   "source": [
    "#### 84. Extract all the contiguous 3x3 blocks from a random 10x10 matrix (★★★)"
   ],
   "metadata": {
    "collapsed": false
   },
   "id": "999cff1f9e9f0c7d"
  },
  {
   "cell_type": "code",
   "outputs": [],
   "source": [],
   "metadata": {
    "collapsed": false
   },
   "id": "bbf10a916b767eb1"
  },
  {
   "cell_type": "markdown",
   "source": [
    "#### 85. Create a 2D array subclass such that Z[i,j] == Z[j,i] (★★★)"
   ],
   "metadata": {
    "collapsed": false
   },
   "id": "852357a88659e47a"
  },
  {
   "cell_type": "code",
   "outputs": [],
   "source": [],
   "metadata": {
    "collapsed": false
   },
   "id": "58494c1d84b378c5"
  },
  {
   "cell_type": "markdown",
   "source": [
    "#### 86. Consider a set of p matrices with shape (n,n) and a set of p vectors with shape (n,1). How to compute the sum of of the p matrix products at once? (result has shape (n,1)) (★★★)"
   ],
   "metadata": {
    "collapsed": false
   },
   "id": "951846b5ff05b7bc"
  },
  {
   "cell_type": "code",
   "outputs": [],
   "source": [],
   "metadata": {
    "collapsed": false
   },
   "id": "dc9923419bdfa9ea"
  },
  {
   "cell_type": "markdown",
   "source": [
    "#### 87. Consider a 16x16 array, how to get the block-sum (block size is 4x4)? (★★★)"
   ],
   "metadata": {
    "collapsed": false
   },
   "id": "acf0a751dd3b1e85"
  },
  {
   "cell_type": "code",
   "outputs": [],
   "source": [],
   "metadata": {
    "collapsed": false
   },
   "id": "d5e43a429c28fa4a"
  },
  {
   "cell_type": "markdown",
   "source": [
    "#### 88. How to implement the Game of Life using numpy arrays? (★★★)"
   ],
   "metadata": {
    "collapsed": false
   },
   "id": "b142cea495db4d2"
  },
  {
   "cell_type": "code",
   "outputs": [],
   "source": [],
   "metadata": {
    "collapsed": false
   },
   "id": "9fa1441b6a4262cb"
  },
  {
   "cell_type": "markdown",
   "source": [
    "#### 89. How to get the n largest values of an array (★★★)"
   ],
   "metadata": {
    "collapsed": false
   },
   "id": "f84dec807152c96e"
  },
  {
   "cell_type": "code",
   "outputs": [],
   "source": [],
   "metadata": {
    "collapsed": false
   },
   "id": "6d728c82cc0190a0"
  },
  {
   "cell_type": "markdown",
   "source": [
    "#### 90. Given an arbitrary number of vectors, build the cartesian product (every combinations of every item) (★★★)"
   ],
   "metadata": {
    "collapsed": false
   },
   "id": "f07caae806dd9537"
  },
  {
   "cell_type": "code",
   "outputs": [],
   "source": [],
   "metadata": {
    "collapsed": false
   },
   "id": "3fc636486d18b34d"
  },
  {
   "cell_type": "markdown",
   "source": [
    "#### 91. How to create a record array from a regular array? (★★★)"
   ],
   "metadata": {
    "collapsed": false
   },
   "id": "1c9211c7af9cce1a"
  },
  {
   "cell_type": "code",
   "outputs": [],
   "source": [],
   "metadata": {
    "collapsed": false
   },
   "id": "eb3d5e95640a6e77"
  },
  {
   "cell_type": "markdown",
   "source": [
    "#### 92. Consider a large vector Z, compute Z to the power of 3 using 3 different methods (★★★)"
   ],
   "metadata": {
    "collapsed": false
   },
   "id": "7bf212c89a3b5c7c"
  },
  {
   "cell_type": "code",
   "outputs": [],
   "source": [],
   "metadata": {
    "collapsed": false
   },
   "id": "55d9d1609121c317"
  },
  {
   "cell_type": "markdown",
   "source": [
    "#### 93. Consider two arrays A and B of shape (8,3) and (2,2). How to find rows of A that contain elements of each row of B regardless of the order of the elements in B? (★★★)"
   ],
   "metadata": {
    "collapsed": false
   },
   "id": "71b387400db8920c"
  },
  {
   "cell_type": "code",
   "outputs": [],
   "source": [],
   "metadata": {
    "collapsed": false
   },
   "id": "d593d05dc5979040"
  },
  {
   "cell_type": "markdown",
   "source": [
    "#### 94. Considering a 10x3 matrix, extract rows with unequal values (e.g. [2,2,3]) (★★★)"
   ],
   "metadata": {
    "collapsed": false
   },
   "id": "1f4ce6d6b3b9af3c"
  },
  {
   "cell_type": "code",
   "outputs": [],
   "source": [],
   "metadata": {
    "collapsed": false
   },
   "id": "f2b237c7aaf9d1fe"
  },
  {
   "cell_type": "markdown",
   "source": [
    "#### 95. Convert a vector of ints into a matrix binary representation (★★★)"
   ],
   "metadata": {
    "collapsed": false
   },
   "id": "63b2e1e282651da2"
  },
  {
   "cell_type": "code",
   "outputs": [],
   "source": [],
   "metadata": {
    "collapsed": false
   },
   "id": "317c8fc3bd7d4037"
  },
  {
   "cell_type": "markdown",
   "source": [
    "#### 96. Given a two dimensional array, how to extract unique rows? (★★★)"
   ],
   "metadata": {
    "collapsed": false
   },
   "id": "9e412de718029677"
  },
  {
   "cell_type": "code",
   "outputs": [],
   "source": [],
   "metadata": {
    "collapsed": false
   },
   "id": "6697612a8bd54a4a"
  },
  {
   "cell_type": "markdown",
   "source": [
    "#### 97. Considering 2 vectors A & B, write the einsum equivalent of inner, outer, sum, and mul function (★★★)"
   ],
   "metadata": {
    "collapsed": false
   },
   "id": "ca6efb7a92371e99"
  },
  {
   "cell_type": "code",
   "outputs": [],
   "source": [],
   "metadata": {
    "collapsed": false
   },
   "id": "d5adeb2808eeb618"
  },
  {
   "cell_type": "markdown",
   "source": [
    "#### 98. Considering a path described by two vectors (X,Y), how to sample it using equidistant samples (★★★)?"
   ],
   "metadata": {
    "collapsed": false
   },
   "id": "d1922f291f452e3a"
  },
  {
   "cell_type": "code",
   "outputs": [],
   "source": [],
   "metadata": {
    "collapsed": false
   },
   "id": "1b1095a9d9fa5fed"
  },
  {
   "cell_type": "markdown",
   "source": [
    "#### 99. Given an integer n and a 2D array X, select from X the rows which can be interpreted as draws from a multinomial distribution with n degrees, i.e., the rows which only contain integers and which sum to n. (★★★)"
   ],
   "metadata": {
    "collapsed": false
   },
   "id": "6e94561b0e1f4d8c"
  },
  {
   "cell_type": "code",
   "outputs": [],
   "source": [],
   "metadata": {
    "collapsed": false
   },
   "id": "80d7cbe33be628db"
  },
  {
   "cell_type": "markdown",
   "source": [
    "#### 100. Compute bootstrapped 95% confidence intervals for the mean of a 1D array X (i.e., resample the elements of an array with replacement N times, compute the mean of each sample, and then compute percentiles over the means). (★★★)"
   ],
   "metadata": {
    "collapsed": false
   },
   "id": "19c02da9667c6660"
  },
  {
   "cell_type": "code",
   "outputs": [],
   "source": [],
   "metadata": {
    "collapsed": false
   },
   "id": "5d029ad3fff28e7d"
  }
 ],
 "metadata": {
  "kernelspec": {
   "name": "python3",
   "language": "python",
   "display_name": "Python 3 (ipykernel)"
  }
 },
 "nbformat": 4,
 "nbformat_minor": 5
}
